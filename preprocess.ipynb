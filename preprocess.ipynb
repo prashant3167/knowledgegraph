{
 "cells": [
  {
   "cell_type": "code",
   "execution_count": 1,
   "metadata": {},
   "outputs": [],
   "source": [
    "import pandas as pd\n",
    "import random\n",
    "import lorem"
   ]
  },
  {
   "attachments": {},
   "cell_type": "markdown",
   "metadata": {},
   "source": [
    "## Constants\n"
   ]
  },
  {
   "cell_type": "code",
   "execution_count": 2,
   "metadata": {},
   "outputs": [],
   "source": [
    "keywords = [\n",
    "    'Artificial intelligence',\n",
    "    'Machine learning',\n",
    "    'Deep learning',\n",
    "    'Computer vision',\n",
    "    'Natural language processing',\n",
    "    'Robotics',\n",
    "    'Human-computer interaction',\n",
    "    'Computer graphics',\n",
    "    'Data mining',\n",
    "    'Big data',\n",
    "    'Computer networks',\n",
    "    'Distributed computing',\n",
    "    'Cloud computing',\n",
    "    'Cybersecurity',\n",
    "    'Cryptography',\n",
    "    'Information theory',\n",
    "    'Algorithm analysis',\n",
    "    'Computational complexity',\n",
    "    'High-performance computing',\n",
    "    'Quantum computing'\n",
    "]"
   ]
  },
  {
   "attachments": {},
   "cell_type": "markdown",
   "metadata": {},
   "source": [
    "## Journal Processing"
   ]
  },
  {
   "cell_type": "code",
   "execution_count": 3,
   "metadata": {},
   "outputs": [
    {
     "data": {
      "text/html": [
       "<div>\n",
       "<style scoped>\n",
       "    .dataframe tbody tr th:only-of-type {\n",
       "        vertical-align: middle;\n",
       "    }\n",
       "\n",
       "    .dataframe tbody tr th {\n",
       "        vertical-align: top;\n",
       "    }\n",
       "\n",
       "    .dataframe thead th {\n",
       "        text-align: right;\n",
       "    }\n",
       "</style>\n",
       "<table border=\"1\" class=\"dataframe\">\n",
       "  <thead>\n",
       "    <tr style=\"text-align: right;\">\n",
       "      <th></th>\n",
       "      <th>id</th>\n",
       "      <th>author</th>\n",
       "      <th>author-aux</th>\n",
       "      <th>author-orcid</th>\n",
       "      <th>booktitle</th>\n",
       "      <th>cdate</th>\n",
       "      <th>cdrom</th>\n",
       "      <th>cite</th>\n",
       "      <th>cite-label</th>\n",
       "      <th>crossref</th>\n",
       "      <th>...</th>\n",
       "      <th>publnr</th>\n",
       "      <th>publtype</th>\n",
       "      <th>sub</th>\n",
       "      <th>sup</th>\n",
       "      <th>title</th>\n",
       "      <th>title-bibtex</th>\n",
       "      <th>tt</th>\n",
       "      <th>url</th>\n",
       "      <th>volume</th>\n",
       "      <th>year</th>\n",
       "    </tr>\n",
       "  </thead>\n",
       "  <tbody>\n",
       "    <tr>\n",
       "      <th>0</th>\n",
       "      <td>0</td>\n",
       "      <td>Daniel Genkin|Daniel Gruss|Michael Schwarz 000...</td>\n",
       "      <td>NaN</td>\n",
       "      <td>NaN</td>\n",
       "      <td>NaN</td>\n",
       "      <td>NaN</td>\n",
       "      <td>NaN</td>\n",
       "      <td>NaN</td>\n",
       "      <td>NaN</td>\n",
       "      <td>NaN</td>\n",
       "      <td>...</td>\n",
       "      <td>NaN</td>\n",
       "      <td>informal</td>\n",
       "      <td>NaN</td>\n",
       "      <td>NaN</td>\n",
       "      <td>Spectre Attacks: Exploiting Speculative Execut...</td>\n",
       "      <td>NaN</td>\n",
       "      <td>NaN</td>\n",
       "      <td>NaN</td>\n",
       "      <td>NaN</td>\n",
       "      <td>2018</td>\n",
       "    </tr>\n",
       "    <tr>\n",
       "      <th>1</th>\n",
       "      <td>1</td>\n",
       "      <td>Daniel Genkin|Daniel Gruss|Michael Schwarz 000...</td>\n",
       "      <td>NaN</td>\n",
       "      <td>NaN</td>\n",
       "      <td>NaN</td>\n",
       "      <td>NaN</td>\n",
       "      <td>NaN</td>\n",
       "      <td>NaN</td>\n",
       "      <td>NaN</td>\n",
       "      <td>NaN</td>\n",
       "      <td>...</td>\n",
       "      <td>NaN</td>\n",
       "      <td>informal</td>\n",
       "      <td>NaN</td>\n",
       "      <td>NaN</td>\n",
       "      <td>Meltdown</td>\n",
       "      <td>NaN</td>\n",
       "      <td>NaN</td>\n",
       "      <td>NaN</td>\n",
       "      <td>NaN</td>\n",
       "      <td>2018</td>\n",
       "    </tr>\n",
       "    <tr>\n",
       "      <th>2</th>\n",
       "      <td>3</td>\n",
       "      <td>Frank Manola</td>\n",
       "      <td>NaN</td>\n",
       "      <td>NaN</td>\n",
       "      <td>NaN</td>\n",
       "      <td>NaN</td>\n",
       "      <td>NaN</td>\n",
       "      <td>NaN</td>\n",
       "      <td>NaN</td>\n",
       "      <td>NaN</td>\n",
       "      <td>...</td>\n",
       "      <td>NaN</td>\n",
       "      <td>informal</td>\n",
       "      <td>NaN</td>\n",
       "      <td>NaN</td>\n",
       "      <td>An Evaluation of Object-Oriented DBMS Developm...</td>\n",
       "      <td>NaN</td>\n",
       "      <td>NaN</td>\n",
       "      <td>db/journals/gtelab/index.html#TR-0263-08-94-165</td>\n",
       "      <td>TR-0263-08-94-165</td>\n",
       "      <td>1994</td>\n",
       "    </tr>\n",
       "    <tr>\n",
       "      <th>3</th>\n",
       "      <td>4</td>\n",
       "      <td>Michael L. Brodie|Michael Stonebraker</td>\n",
       "      <td>NaN</td>\n",
       "      <td>NaN</td>\n",
       "      <td>NaN</td>\n",
       "      <td>NaN</td>\n",
       "      <td>NaN</td>\n",
       "      <td>NaN</td>\n",
       "      <td>NaN</td>\n",
       "      <td>NaN</td>\n",
       "      <td>...</td>\n",
       "      <td>NaN</td>\n",
       "      <td>informal</td>\n",
       "      <td>NaN</td>\n",
       "      <td>NaN</td>\n",
       "      <td>DARWIN: On the Incremental Migration of Legacy...</td>\n",
       "      <td>NaN</td>\n",
       "      <td>NaN</td>\n",
       "      <td>db/journals/gtelab/index.html#TR-0222-10-92-165</td>\n",
       "      <td>TR-0222-10-92-165</td>\n",
       "      <td>1993</td>\n",
       "    </tr>\n",
       "    <tr>\n",
       "      <th>4</th>\n",
       "      <td>5</td>\n",
       "      <td>Farshad Nayeri|Joe D. Morrison|Mark F. Hornick</td>\n",
       "      <td>NaN</td>\n",
       "      <td>NaN</td>\n",
       "      <td>NaN</td>\n",
       "      <td>NaN</td>\n",
       "      <td>NaN</td>\n",
       "      <td>NaN</td>\n",
       "      <td>NaN</td>\n",
       "      <td>NaN</td>\n",
       "      <td>...</td>\n",
       "      <td>NaN</td>\n",
       "      <td>informal</td>\n",
       "      <td>NaN</td>\n",
       "      <td>NaN</td>\n",
       "      <td>Integrating Heterogeneous, Autonomous, Distrib...</td>\n",
       "      <td>NaN</td>\n",
       "      <td>NaN</td>\n",
       "      <td>db/journals/gtelab/index.html#TR-0174-12-91-165</td>\n",
       "      <td>TR-0174-12-91-165</td>\n",
       "      <td>1991</td>\n",
       "    </tr>\n",
       "  </tbody>\n",
       "</table>\n",
       "<p>5 rows × 35 columns</p>\n",
       "</div>"
      ],
      "text/plain": [
       "   id                                             author  author-aux  \\\n",
       "0   0  Daniel Genkin|Daniel Gruss|Michael Schwarz 000...         NaN   \n",
       "1   1  Daniel Genkin|Daniel Gruss|Michael Schwarz 000...         NaN   \n",
       "2   3                                       Frank Manola         NaN   \n",
       "3   4              Michael L. Brodie|Michael Stonebraker         NaN   \n",
       "4   5     Farshad Nayeri|Joe D. Morrison|Mark F. Hornick         NaN   \n",
       "\n",
       "  author-orcid  booktitle  cdate cdrom  cite  cite-label  crossref  ...  \\\n",
       "0          NaN        NaN    NaN   NaN   NaN         NaN       NaN  ...   \n",
       "1          NaN        NaN    NaN   NaN   NaN         NaN       NaN  ...   \n",
       "2          NaN        NaN    NaN   NaN   NaN         NaN       NaN  ...   \n",
       "3          NaN        NaN    NaN   NaN   NaN         NaN       NaN  ...   \n",
       "4          NaN        NaN    NaN   NaN   NaN         NaN       NaN  ...   \n",
       "\n",
       "  publnr  publtype  sub  sup  \\\n",
       "0    NaN  informal  NaN  NaN   \n",
       "1    NaN  informal  NaN  NaN   \n",
       "2    NaN  informal  NaN  NaN   \n",
       "3    NaN  informal  NaN  NaN   \n",
       "4    NaN  informal  NaN  NaN   \n",
       "\n",
       "                                               title title-bibtex  tt  \\\n",
       "0  Spectre Attacks: Exploiting Speculative Execut...          NaN NaN   \n",
       "1                                           Meltdown          NaN NaN   \n",
       "2  An Evaluation of Object-Oriented DBMS Developm...          NaN NaN   \n",
       "3  DARWIN: On the Incremental Migration of Legacy...          NaN NaN   \n",
       "4  Integrating Heterogeneous, Autonomous, Distrib...          NaN NaN   \n",
       "\n",
       "                                               url             volume  year  \n",
       "0                                              NaN                NaN  2018  \n",
       "1                                              NaN                NaN  2018  \n",
       "2  db/journals/gtelab/index.html#TR-0263-08-94-165  TR-0263-08-94-165  1994  \n",
       "3  db/journals/gtelab/index.html#TR-0222-10-92-165  TR-0222-10-92-165  1993  \n",
       "4  db/journals/gtelab/index.html#TR-0174-12-91-165  TR-0174-12-91-165  1991  \n",
       "\n",
       "[5 rows x 35 columns]"
      ]
     },
     "execution_count": 3,
     "metadata": {},
     "output_type": "execute_result"
    }
   ],
   "source": [
    "articles = pd.read_csv('data/output_article.csv', delimiter=';', nrows=1000)\n",
    "articles.head()\n"
   ]
  },
  {
   "cell_type": "code",
   "execution_count": null,
   "metadata": {},
   "outputs": [],
   "source": []
  },
  {
   "cell_type": "code",
   "execution_count": 4,
   "metadata": {},
   "outputs": [
    {
     "data": {
      "text/plain": [
       "{'ANSI X2H2',\n",
       " 'ANSI X3H2',\n",
       " 'Compulog Newsletter',\n",
       " 'Digital System Research Center Report',\n",
       " 'ETH Zurich, Department of Computer Science / Technical Report',\n",
       " 'GTE Laboratories Incorporated',\n",
       " 'Hydrology and Earth System Sciences',\n",
       " 'IBM Publication',\n",
       " 'IWBS Report',\n",
       " 'LILOG-Memo',\n",
       " 'LILOG-Report',\n",
       " 'Research Report / G / IBM / Cambridge Scientific Center',\n",
       " 'Research Report / RJ / IBM / San Jose, California',\n",
       " 'Sci. Eng. Ethics',\n",
       " 'Technical Rep. UKSC 0060, IBM United Kingdom Scientific Centre',\n",
       " 'Technical Report',\n",
       " 'University of California at Berkeley',\n",
       " 'Universität Trier, Mathematik/Informatik, Forschungsbericht',\n",
       " 'meltdownattack.com'}"
      ]
     },
     "execution_count": 4,
     "metadata": {},
     "output_type": "execute_result"
    }
   ],
   "source": [
    "set(articles.journal)"
   ]
  },
  {
   "cell_type": "code",
   "execution_count": 5,
   "metadata": {},
   "outputs": [
    {
     "data": {
      "text/plain": [
       "0                                        Arnon Rosenthal\n",
       "1                                             E. F. Codd\n",
       "2                  Sven Lorenz|Toni Bollinger|Udo Pletat\n",
       "3                    Geoffrey Simmons|Kai-Uwe Carstensen\n",
       "4                           David W. Flater|Yelena Yesha\n",
       "                             ...                        \n",
       "995               Pannagadatta K. Shivaswamy|Tony Jebara\n",
       "996                 Hugo Larochelle|Ruslan Salakhutdinov\n",
       "997    André Filipe Torres Martins|Eric P. Xing|Mário...\n",
       "998    Katherine A. Heller|Yang Xu 0023|Zoubin Ghahra...\n",
       "999         Adam R. Klivans|Parikshit Gopalan|Raghu Meka\n",
       "Name: author, Length: 1000, dtype: object"
      ]
     },
     "execution_count": 5,
     "metadata": {},
     "output_type": "execute_result"
    }
   ],
   "source": [
    "inproceedings = pd.read_csv('data/output_inproceedings.csv', delimiter=';', nrows=1000)\n",
    "inproceedings.author"
   ]
  },
  {
   "attachments": {},
   "cell_type": "markdown",
   "metadata": {},
   "source": [
    "## Authors for Journals"
   ]
  },
  {
   "cell_type": "code",
   "execution_count": 6,
   "metadata": {},
   "outputs": [
    {
     "name": "stdout",
     "output_type": "stream",
     "text": [
      "1292\n"
     ]
    }
   ],
   "source": [
    "df = articles.apply(lambda x: str(x['author']).split('|'), axis=1)\n",
    "all_authors_journal = []\n",
    "for i in df:\n",
    "    all_authors_journal  = all_authors_journal+ i\n",
    "all_authors_journal =set(all_authors_journal)\n",
    "print(len(all_authors_journal))"
   ]
  },
  {
   "cell_type": "markdown",
   "metadata": {
    "tags": [
     "parameters"
    ]
   },
   "source": [
    "## Authors for Conferences"
   ]
  },
  {
   "cell_type": "code",
   "execution_count": 7,
   "metadata": {},
   "outputs": [
    {
     "name": "stdout",
     "output_type": "stream",
     "text": [
      "1927\n"
     ]
    }
   ],
   "source": [
    "df2 = inproceedings.apply(lambda x: str(x['author']).split('|'), axis=1)\n",
    "\n",
    "all_authors_inproceedings = []\n",
    "for i in df2:\n",
    "    all_authors_inproceedings  = all_authors_inproceedings+ i\n",
    "all_authors_inproceedings =set(all_authors_inproceedings)\n",
    "print(len(all_authors_inproceedings))"
   ]
  },
  {
   "cell_type": "code",
   "execution_count": 8,
   "metadata": {},
   "outputs": [
    {
     "data": {
      "text/plain": [
       "0"
      ]
     },
     "execution_count": 8,
     "metadata": {},
     "output_type": "execute_result"
    }
   ],
   "source": [
    "inproceedings.booktitle.isnull().sum()"
   ]
  },
  {
   "attachments": {},
   "cell_type": "markdown",
   "metadata": {},
   "source": [
    "## Combine authors"
   ]
  },
  {
   "cell_type": "code",
   "execution_count": 9,
   "metadata": {},
   "outputs": [
    {
     "name": "stdout",
     "output_type": "stream",
     "text": [
      "{'Cetin Ozbutun', 'Rudi Studer', 'Ricardo Neisse', 'Geoffrey J. McLachlan', 'Michael Kramp', 'Jason Weston', 'Jiang Wang 0001', 'Hiroki Nakayama', 'Mariarosaria Taddeo', 'Élouise Smith', 'Ryan Blake Jackson', 'John W. Fisher III', 'Andrea Di Cencio', 'Hao Shen', 'Torbjørn Gundersen', 'Shirley Browne', 'Rolf Mayer', 'Javad Yahaghi', 'Aceil Al-Khatib', 'Hui Guo', 'Daming Zhang', 'Shane T. Jensen', 'Jun Li 0010', 'Mario Milone', 'J. Fdez-Valdivia', 'Dinh Q. Phung', 'Raymond F. Boyce', 'Angelina Patrick Olesen', 'Jürgen Pietsch', 'Katherine A. Austin', 'Hossein Esmaeili', 'Jeffrey Kovac', 'Bert Gordijn', 'Babak Nadjar Araabi', 'Milos Hauskrecht', 'Purnamrita Sarkar', 'Nicolas Le Roux', 'Yanfeng Zhu 0001', 'Mohamed Abioui', 'Franziska Meier', 'Byron Boots', 'Horst Schmitt', 'Guy Lever', 'Ole J. Mengshoel', 'Peter A. Flach', 'Marcel Katz', 'Yevgeny Seldin', 'Lars Abbe', 'Ian M. Molloy', 'Alessandro Verri', 'Lyle H. Ungar', 'Wessel Reijers', 'Jennifer Neville', 'Patricia Ann Mabrouk', 'Michel Dojat', 'Yue Guan', 'Tyler Lu', 'Steven P. Crain', 'Kevin Swersky', 'Klaus Rehkämper', 'Guillaume Desjardins', 'Lei Shi 0009', 'Amit Gruber', 'Jonas Ströjby', 'Murali Telaprolu', 'Gideon Dror', 'Saadia Mahmud', 'Guang Dai', \"Declan O'Sullivan\", 'Peter Orbanz', 'Ranganatha Sitaram', 'Stéphan Clémençon', 'S. V. N. Vishwanathan', 'R. J. Gardner', 'Markus Holzer 0001', 'Gyemin Lee', 'Carlos M. Carvalho', 'Alison Kretser', 'Chris Bracegirdle', 'Rengül Çetin-Atalay', 'Gui-Bo Ye', 'Stephanie J. Bird', 'Vance W. Berger', 'Kelly Laas', 'Shengli Fu', 'Graham W. Taylor', 'Syama Sundar Rangapuram', 'Liu Yao', 'Karthik Sindharan', 'Matthias Blume', 'Zhenhui Li', 'Ivo Maathuis', 'Peter M. Attia', 'Christopher Ré', 'Markus R. Schmidt', 'Sean Streck', 'Petra Scheffler', 'Bharath K. Sriperumbudur', 'Hirokazu Kameyama', 'Akshat Kumar', 'Bram Vanderborght', 'Gert R. G. Lanckriet', 'Yuri Grinberg', 'Sethu Vijayakumar', 'Maurizio Zazzi', 'Aurélien Garivier', 'Carola Eschenbach', 'Jim Gray 0001', 'Stefka Schmid', 'Niv Buchbinder', 'George C. Runger', 'Pascal Vincent', 'Bernice Simone Elger', 'Amit P. Sheth', 'Ivan Titov', 'Michèle Sebag', 'Jane de Winter', 'Ana Mlinaric', 'Joe Giffels', 'Alona Fyshe', 'Sven Lorenz', 'Oliver Wauschkuhn', 'Yoann Guntzburger', 'Robert Quick', 'Petri Myllymäki', 'Frank Konietschke', 'Takafumi Kanamori', 'Martin Schafföner', 'Bert Huang', 'John A. Quinn', 'Hartmut Neven', 'Nelly Barbot', 'Hui Zou', 'David J. Kijowski', 'Senan Doyle', 'Martin Mladenov', 'Thomas Prescher 0002', 'Jialei Wang', 'Christopher DuBois', 'Michael Steinmann', 'Brice Laurent', 'Ulrike Rackow', 'Jim Melton', 'Xing Xu', 'Martin Erwig', 'Alastair J. D. Macdonald', 'Anicet R. Blanch', 'Brent D. Mittelstadt 0002', 'Sotirios P. Chatzis', 'Mukund Narasimhan', 'Emmanuel Duflos', 'Valérie Racine', 'Moustapha Cissé', 'Rafal Wodzisz', 'Jean-Marc Cadiou', 'Prasad Tadepalli', 'Grégoire Mesnil', 'Tim Brown', 'Pierre Laurent-Puig', 'Gilles Stoltz', 'Dit-Yan Yeung', 'Dena Plemmons', 'Manqi Zhao', 'Dennis M. Gorman', 'Constantine Caramanis', 'Sebastian Pintea', 'David B. Resnik', 'Bernard De Baets', 'Joachim M. Buhmann', 'C.-H. Ho', 'Thomas S. Stepleton', 'Helmut Schnelle', 'Hugh P. Shanahan', 'Gerhard J. Woeginger', 'Carolina Herrera Bañol', 'Michael Eichler', 'Donglin Niu', 'Kitsuchart Pasupa', 'Julian Nida-Rümelin', 'Magnus Rattray', 'Jean-Philippe Pellet', 'Vincent Conitzer', 'Julio R. Tuma', 'Mónica Mendes', 'Ruyin Long', 'Abhishek Tandon', 'Ales Erjavec', 'Rickey Y. Yada', 'Evan Selinger', 'Sitaram Lanka', 'Donna Riley', 'William Knight 0001', 'Sergey Demyanov', 'Choon Hui Teo', 'Lise Degn', 'Vikash K. Mansinghka', 'Yu Xin', 'Ankur P. Parikh', 'Daniil Ryabko', 'Tooba Fatima Qadir', 'Cory Higgs', 'Nanne van Noord', 'Pascal Steingrube', 'André Filipe Torres Martins', 'Rita Ley', 'Holger M. Wittmann', 'Kasyap Natarajan', 'Christian Reuter 0001', 'Anjali Truitt', 'Mohamed Amir Esseghir', 'Shlomo Mark', 'Michel Verleysen', 'David M. Lyreskog', 'Marine Campedel', 'Youssouf Chherawala', 'Ramesh Holla', 'Arno Wagner', 'Patricia Osseweijer', 'Xiaojin Zhu 0001', 'Kathy Partin', 'Chia-Jung Lee', 'Hsiang-Fu Yu', 'Pascal Poupart', 'Richard Rödler', 'Hugo Hellebrand', 'Lynne E. Olson', 'Ronan Collobert', 'Angela Fortunato', 'Mei Lan Fang', 'Alex Richman', 'Daniel Povey', 'José C. Riquelme', 'Tricia Bertram Gallant', 'Masashi Sugiyama', 'Kenji Fukumizu', 'Fares Hedayati', 'Hidekazu Kanemitsu', 'An C. Tran', 'Elise Smith', 'Róbert Iwatt', 'Claus-Rainer Rollinger', 'Zhiyong Wang 0005', 'Ron Begleiter', 'Ingrid Renz', 'Ramona Simut', 'Edward Challis', 'Xiaoye Jiang', 'John D. Lafferty', 'Giovanni Zappella', 'Daniel Vainsencher', 'Jean Morales', 'Jeff Collmann', 'Jane Chandlee', \"Terence J. O'Brien\", 'Daniel Kifer', 'Christopher Lusena', 'Angela Cirigliano', 'Saptarshi Guha', 'John C. Duchi', 'Carsten Damm', 'Charles-Étienne Daniel', 'Jochen Dörre', 'Jafar Rezaei 0001', 'Gavin C. Cawley', 'Haidong Shi', 'Kai-Uwe Carstensen', 'Enrica Marchigiani', 'Ofer Dekel', 'Ruth L. Fischbach', 'Iñigo de Miguel Beriain', 'Yukun Chen', 'Sebastian Millies', 'Gianpiero Cabodi', 'Takashi Takenouchi', 'Yang Zhang', 'Jaime G. Carbonell', 'Liu Yang 0001', 'Yves Van de Peer', 'Lloyd Stoolman', 'James Bailey 0001', 'Takashi Chikayama', 'Piyush Rai', 'Joachim Giesen', 'David A. McAllester', 'Patrik O. Hoyer', 'Barnabás Póczos', 'Firas Hamze', 'Dunja Mladenic', 'Cristian Sminchisescu', 'Andrew J. Russell', 'P. Bruce Berra', 'Rina Dechter', 'Huxiang Gu', 'Seungjin Choi', 'Boleslaw K. Szymanski', 'Homin K. Lee', 'Jimmy Olsson', 'Ulrich Schatz', 'Charles-Henry Frouart', 'Zhijian Ou', 'Jorge Civera', 'Zubin Master', 'George Middendorf', 'Michael Schwarz 0001', 'Reiner Horst', 'Theodor Lettmann', 'David Grangier', 'Josh Wills', 'Claire Monteleoni', 'H. Raymond Strong', 'Brigitte Bartsch-Spörl', 'Dhruv Batra', 'Earl D. McCoy', 'J. Doug Tygar', 'Dian Gong', 'Hans L. Bodlaender', 'Richard T. Marcy', 'Leen B. Fino', 'Manabu Kuroki', 'Chieh-Yen Lin', 'Hossein Hajimirsadeghi', 'Jussi Kujala', 'Giuseppe Claudio Guarnera', 'Rong-Bing Chiu', 'Florence Forbes', 'Mario Marchand', 'Ku-Chun Chou', 'Mario Frank 0001', 'Liefeng Bo', 'Stefano Quer', 'Nishakanthi Gopalan', 'Nimalan Mahendran', 'Anton Chechetka', 'Dieter Landes', 'Alessandro Vittorio Papadopoulos', 'Gábor Hullám', 'Roland Groz', 'Raymond E. Spier', 'Daniel J. Hsu', 'Tapani Raiko', 'Susan A. Elmore', 'Cameron Gordon', 'Quanquan Gu', 'Hélène Kirchner', 'Tadej Stajner', 'Ronnie Hawkins', 'Samuel V. Bruton', 'Claudia Eckert 0001', 'Linda H. Zhao', 'Cary Moskovitz', 'Michael Lemaster', 'Sinead Williamson', 'Blaz Fortuna', 'Nadia Berthouze', 'Pablo Rey-Mazón', 'Dale J. Benos', 'Anind K. Dey', 'Karel Oliva', 'Claudia Perlich', 'C. J. Date 0001', 'Vikas C. Raykar', 'Yi Chang 0001', 'Fumihiko Tochinai', 'Anna Bernasconi 0001', 'Danny Goodman', 'Xuanhui Wang', 'Sicco Verwer', 'Thierry C. Pauchant', 'Anat Elhalal', 'Vijaya Marakala', 'Aida Causevic', 'Lior Wolf', 'Ramesh Nallapati', 'Qi Mao', 'Sérgio L. S. Mergen', 'Denver Dash', 'Chijs van Nieuwenhuizen', 'Pascal Van Hentenryck', 'Volker Jantzen', 'nan', 'Boaz Lerner', 'Alexander L. Strehl', 'Yu-Hong Dai', 'Louis Wehenkel', 'Alan Zimmerman', 'Marty J. Wolf', 'Lin Shang 0001', 'Elaine S. Godfrey', 'Martial Hebert', 'Yasemin Altun', 'Isabelle Guyon', 'Alison L. Antes', 'Merle Weßel', 'Ralf Merz', 'Irina Borisova', 'Miroslav Dudík', 'Bo Dai', 'Terry Windeatt', 'Mojca Mattiazzi', 'Peter Rossmanith', 'M. Nast', 'Philip J. Langlais', 'Syed Bilal Pasha', 'Amitabha Gupta', 'Xin Tong', 'Jeff G. Schneider', 'Susan G. Spierre', 'Nando de Freitas', 'Petr Houdek', 'Kevin Sharp', 'Benjamin Hurwitz', 'Thomas Pirlein', 'Erick Chastain', 'Adrien Couëtoux', 'Howard J. Curzer', 'Tommi S. Jaakkola', 'Gudrun Klinker', 'Ryan D. Turner', 'Leonor Becerra-Bonache', 'Min Sun 0001', 'Zheng Zhao', 'Alexander Borisov', 'Alexandre Lacoste', 'Moritz Lipp', 'M. Tamer Özsu', 'Baudouin Le Charlier', 'Yann Dupont', 'Shahryar Sorooshian', 'Jaime A. Teixeira da Silva', 'Marina Danilevsky', 'Owen Jones', 'Liang Xiong', 'Gerhard Neumann', 'Veselin Stoyanov', 'Adityanand Guntuboyina', 'Indre Zliobaite', 'David Beech', 'Andreas Argyriou', 'Laura Specker Sullivan', 'Kathleen M. Vogel', 'Brian Bowe', 'Volkan Atalay', 'Sainbayar Sukhbaatar', 'Thorsten Theobald', 'Daniele Fanelli', 'H. Brendan McMahan', 'Jeremy Jancsary', 'Andreas Eisele 0001', 'Amy Huang', 'Nicolas Vayatis', 'Guillaume Vogt', 'Guangyuan Hu', 'Ameet Talwalkar', 'Siegfried Graf 0001', 'Scott D. Gelfand', 'Laurens Landeweerd', 'Marco Loog', 'Sébastien Guérif', 'Donald D. Chamberlin', 'Gersende Fort', 'Juanying Xie', 'Huan Wang', 'Nancy M. Davidian', 'Gábor Lugosi', 'Cristina del Barrio', 'Varmo Vene', 'Steven R. Smith', 'Uwe Reyle', 'Shakir Mohamed', 'Nir Ailon', 'Koos van der Bruggen', 'Dominik Seuß', 'Bahadur Singh', 'María-del-Val Segarra-Oña', 'Rahul Garg 0001', 'Hendrik Blockeel', 'Diego García-Saiz', 'Vaman Kulkarni', 'Jason K. Johnson', 'Doina Precup', 'Jiji Zhang', 'Hirakendu Das', 'Alina Beygelzimer', 'Suhrid Balakrishnan', 'Christian Gamborg', 'Tal Hassner', 'Eugenijus Gefenas', 'Stefano Bertuzzi', 'Ole Winther', 'Velibor Ivanisevic', 'Simon Price', 'Martin Jaggi', 'Maren Kresse', 'Jean-Yves Lerner', 'Larry J. Peterson', 'Sebastian M. Pfotenhauer', 'Pierangela Samarati', 'Morten P. Oksvold', 'Robert B. Gramacy', 'Geordie Rose', 'Dieter Baum', 'Beth A. Fischer', 'Stephan Waack', 'Arun C. Surendran', 'Ruchen Wen', 'Maria-Florina Balcan', 'Gregory Z. Grudic', 'Mohammad Ghavamzadeh', 'Ulrich Hedtstück', 'Jarno Vanhatalo', 'Andrew McGregor 0001', 'Ali Taylan Cemgil', 'Jasper Snoek', 'Kai Puolamäki', 'Don Sheehy', 'Gwendolynne Reid', 'Sudipto Guha', 'Jurate Lekstutiene', 'Duy Nguyen-Tuong', 'David Barber', 'Dimitrios Adamis', 'Gal Elidan', 'Romain Thibaux', 'James Cook', 'Tapio Pahikkala', 'Abhishek Jaiantilal', 'Claire Gloeckner', 'Zhihua Zhang', 'Mikhail Belkin', 'Ryan Prescott Adams', 'Robin Gras', 'Paul Sajda', 'Kyle Ferguson', 'Danielle Tapin', 'Anderson Rocha 0001', 'Xiaofeng Tang', 'Arne Mauser', 'Jochen Bern', 'Martin Hübner', 'Bernd I. Dahn', 'James Martens', 'Barry D. Solomon', 'Thore Graepel', 'Brian D. Ziebart', 'B. Tyr Fothergill', 'Timm Jansen', 'Babak Ahmadi', 'Frederik Eaton', 'Hongqin Zhao', 'Robert J. Durrant', 'Halbert White', 'Reinhard Kreissl', 'N. V. Koliev', 'Blake J. Bent', 'Sydney T. Sevier', 'Michael Tarnowski', 'Katherine A. Heller', 'Godehard Link', 'Chien-Chih Wang', 'Pei-Pei Li 0001', 'Ziyu Wang 0001', 'Noor Munirah Isa', 'Mohammad Javad Rezvani', 'Lizhong Ding 0001', 'Xueyuan Zhou', 'Karem H. Alzoubi', 'Klaus-Peter Zauner', 'Hannes Frey', 'Laëtitia Comminges', 'Nikolas Stroth', 'Adam D. Smith', 'Carl Edward Rasmussen', 'Irving L. Traiger', 'Karl Schlechta', 'Mark C. Wallace', 'Yang Xu 0023', 'Ivana Tadic', 'Umar Syed', 'Marzieh Maghrouni', 'Jesús S. Aguilar-Ruiz', 'Paul Ferring', 'Yin-he Jiang', 'Hongtao Lu', 'Günther Heinemann', 'Stephen Marsland', 'Alejandro H. Toselli', 'David Warde-Farley', 'Lisa A. Bero', 'Marc Folcher', 'Mostafa Ajallooeian', 'Serge J. Belongie', 'Laura E. Brown', 'Philip M. Long', 'Jirí Sgall', 'Tim Bauer', 'Borja Balle', 'Cesare A. Galtieri', 'Fabrice O. Morin', 'Paul A. Viola', 'Lauren Hannah', 'El-Sayed M. E. Mostafa', 'Béatrice Laurent', 'Tom Diethe', 'Mesrob I. Ohannessian', 'Jeff A. Bilmes', 'Hung-Che Lai', 'Otthein Herzog', 'Ping He', 'Mary I. Coombs', 'Linda Sellie', 'Daniel J. McDonald', 'Harco Kuppens', 'Sigrid Sterckx', 'Nicholas Navaroli', 'Victoria Sutton', 'Jacques Beauvais', 'Hyun-Chul Kim', 'Qian Wang', 'Nikolaus Ott', 'Christian Oberdörfer', 'Brian C. Martinson', 'Xinghua Shi', 'Devorah Kletenik', 'David A. Ross', 'Changyong Niu', 'Pannagadatta K. Shivaswamy', 'Christopher B. Freelance', 'Christian Thurau', 'János Sztrik', 'Péter Torma', 'Vincent Lemaire 0001', 'Hua Mao', 'Megan R. Turner', 'Leonard Dung', 'Maria Bårdsen Hesjedal', 'Jürgen Angele', 'Michael I. Jordan', 'Justin Kessler', 'Kirill Trapeznikov', 'George Zouridakis', 'Ashish Patel', 'Daniel Pallarés-Domínguez', 'Janez Demsar', 'Hugo Larochelle', 'Ning Wang', 'Stefan Gerberding', 'Ute Schmid', 'Jorge Castro', 'William Bülow', 'Mingxuan Sun', 'Peter Auer', 'Brigitte Bläser', 'Michele Farisco', 'Roberto Ruiz', 'Paul Tubig', 'Judea Pearl', 'Ya-Hsuan Chang', 'Rolf Sander', 'Rafi Rashid', 'Vladimir Vovk', 'Justin Thaler', 'John E. Dahlberg', 'William C. Rounds', 'Bing Bai', 'Cinnamon S. Bloss', 'Angie A. Kehagia', 'Satyaki Mahalanabis', 'Vanja Pupovac', 'Ulrike Felt', 'E. Michelle Todd', 'Svetlana Zernes', 'John Harlow', 'Gérard G. Medioni', 'Shai Fine', 'Alexander Kaplan', 'Malcolm Dcosta', 'Munther A. Dahleh', 'Andrew P. Rebera', 'Amy G. Buhler', 'Angel Peiró-Signes', 'Chun-Nan Hsu', 'Siddhartha S. Srinivasa', 'Eun Ah Lee', 'Susanne Öchsner', 'Stefan Haufe', 'Tsuyoshi Okita 0002', 'Joseph Naor', 'Animashree Anandkumar', 'Joe D. Morrison', 'Tsung-Ting Kuo', 'A. Battermann', 'Karsten M. Borgwardt', 'Fabrice Jotterand', 'Stephen J. Wright 0001', 'Sean T. Powell', 'Jonas Peters', 'Elad Hazan', 'Yener Ülker', 'Mette Ebbesen', 'Tobias Jung 0001', 'Joris M. Mooij', 'Jun Sese', 'Andreea Peca', 'Hongyuan Zha', 'George Markowsky', 'Andreas Töscher', 'Klaus W. Wagner', 'Dacheng Tao', 'Luciano Lenzini', 'Gerardo Hermosillo Valadez', 'David R. Hardoon', 'Rolf Kaiser', 'Mehryar Mohri', 'Martin Gugat', 'Louis Dorard', 'Raney Folland', 'Stefan Lautenbacher', 'Gilles Louppe', 'Sam T. Roweis', 'Michelle Leonard', 'Marsel Scheer', 'Igor E. Shparlinski', 'Rakesh Chandra', 'Jagannathan Srinivasan', 'Elke Busch', 'Mladen Petrovecki', 'Guangcan Liu', 'Jorma Laaksonen', 'Lehel Csató', 'Jean-Yves Audibert', 'Neelam Dehal', 'A. Robert Calderbank', 'Andrea Malizia', 'Keiko Sato', 'Monika Bolek', 'Carsten Riggelsen', 'Marta E. Zorrilla', 'Pedro M. Q. Aguiar', 'Wha-Chul Son', 'Ferenc Huszar', 'Arif Ghafoor', 'Joan-Andreu Sánchez', 'Christophe Salperwyck', 'Matthias Krause 0001', 'Gizell Green', 'Varun Kanade', 'Minmin Chen', 'Prem Raj Adhikari', 'Maja Horst', 'Avan N. Antia', 'Gurami Tsitsiashvili', 'Khaled Moustafa', 'Barbara K. Redman', 'Onno Zoeter', 'Gianmarco Baldini', 'Lisa Hellerstein', 'Tomas Kliestik', 'Denise A. Baker', 'Mikio L. Braun', 'Peter Gritzmann', 'Elena Casiraghi', 'Chunquan Liang', 'Meg Leta Jones', 'Byoung-Tak Zhang', 'Edwin V. Bonilla', 'Vladimir V. Kalashnikov', 'Wojciech Wieczorek', 'Nial Friel', 'Clément Levrard', 'Ann-Marie Hughes', 'Jeremy Eustache', 'Shahed Sorower', 'Arleen Salles', 'Manfred Georg', 'Mingrui Wu', 'Colin Berry', 'Po-Lung Chen', 'Élisa Fromont', 'Wandi Bruine de Bruin', 'Niklas Ellerich-Groppe', 'Elisa Bertino', 'Taisuke Sato', 'Neelke Doorn', 'Michael Klein', 'Tom M. Mitchell', 'Balaji Lakshminarayanan', 'Chi-Jen Lu', 'Slawomir Letkiewicz', 'Robert A. Weida', 'Petra Ludewig', 'Shan Jing', 'Xiao Li 0006', 'Inga Ulnicane', 'Rui M. Castro', 'R. Zieschank', 'Dirk Frosch', 'Greta Gorsuch', 'Daan Fierens', 'Thomas Burger', 'Tao Wang', 'David Lazaridis', 'Dan Stowell', 'Juliana Andrea Arias Vergara', 'Branislav Kveton', 'Tsung-Hsien Chiang', 'Andrzej Górski', 'Lishan Lan', 'Takeaki Uno', 'Jiawei Han 0001', 'Gerald Tesauro', 'Max Dama', 'Frank Ole Flemisch', 'Laura Yenisa Cabrera Trujillo', 'Roman Garnett', 'Alexander Grubb', 'Heike Felzmann', 'Sören Laue', 'Tristan McIntosh', 'Ahmed K. Farahat', 'Yuh-Ming Shyy', 'Rubi Linares-Orozco', 'Dusanka Krajnovic', 'Jie Fu', 'Joseph Gonzalez 0001', 'Robert D. Nowak', 'Lihong Li 0001', 'Nebojsa Jojic', 'Herbert J. Leass', 'Gavin Brown 0001', 'Gisela Schöpke', 'Dmitry Pavlov', 'Jan Wilms', 'Annibale Biggeri', 'Alan S. Willsky', 'Hannes P. Saal', 'Sofia Triantafilou', 'Joseph Lee', 'Stefan Mangard', 'Saeed Banihashemi', 'Nassim Kazitani', 'Flora Colledge', 'Dorota Glowacka', 'Kris Steenhaut', 'Malik Sajjad Ahmed Nadeem', 'Nicol N. Schraudolph', 'John Blitzer', 'Alexandra E. MacDougall', 'Yannick Morel', 'György Szarvas', 'Sayan Mukherjee 0001', 'Andrea Vattani', 'Neha Baryah', 'Eric P. Xing', 'Rob A. van der Sandt', 'Johane Patenaude', 'Gary Lee Downey', 'Nithin Kumar', 'Eduardo Mendieta', 'Frédéric Benhamou', 'Andrew W. Moore 0001', 'Cong Cao', 'Jonathan D. Rosenblatt', 'Jean-Claude Franchitti', 'Rainer Hettich', 'Karl-Hans Bläsius', 'Javed A. Aslam', 'Hang Zhang', 'Vedran Katavic', 'Liang Lan', 'Carol B. Fowler', 'Zhuoyuan Chen', 'Karim Chalak', 'Minca Mramor', 'Günther Görz', 'Zhuoran Wang', 'Jianxin Wu 0001', 'Hans W. Guesgen', 'Michael Schmitt 0002', 'Nicolas Boulanger-Lewandowski', 'Jean-Daniel Zucker', 'Josep M. Basart', 'Raymond De Vries', 'Berna Arda', 'Jervis Pinto', 'Amr Ahmed', 'Omid Mahian', 'Roberta M. Berry', 'Alfons Juan', 'Kevin H. Eng', \"Marc'Aurelio Ranzato\", 'Svetlana Stojkov', 'Alexandru Niculescu-Mizil', 'Snjezana Prijic-Samarzija', 'Klaus Jansen', 'Mark Schmidt 0001', 'David D. Woods', 'Melody Royster', 'Markus Tresch', 'Nicholas G. Evans', 'Ehsan Roohi', 'Andrew L. Maas', 'Grzegorz Swirszcz', 'Somchai Wongwises', 'Koby Crammer', 'Conrad Heilmann', 'Gregor Erbach', 'Mary E. Sunderland', 'Colleen Murphy', 'Andrey Gulin', 'Rémi Bardenet', 'Gerald Matz', 'Ying Wu 0001', 'Minh Hoai Nguyen', 'Kevin Miller', 'T. Xiong', 'Hiroshi Motoda', 'Tijmen Tieleman', 'Sue Ann Hong', 'Artur Czumaj', 'Benjamin Taskar', 'Nathan D. Ratliff', 'Omar F. Khabour', 'Divya Trivedi', 'Bernd Page', 'Nader Navabi', 'Sharath Burugina Nagaraja', 'Giuseppe Azzaro', 'Martin Zinkevich', 'Tao Xiong', 'Oleg V. Khamisov', 'Barbara Gängler', 'Fides Aarts', 'Robert Dionne', 'Owen Guy', 'David Sánchez-Mendoza', 'Shiming Xiang', 'Randal E. Bryant', 'Helmut Finner', 'Abhradeep Thakurta', 'Mikail Gevantmakher', 'Manfred Börkel', 'Feng Liang', 'Jun Liu 0003', 'Andrew B. Goldberg', 'Jessica M. Smith', 'William D. Lawson', 'Wu-Jun Li', 'Subramani Mani', 'Julianne Hanavan', 'J. Xie', 'José Javier Sastre', 'Hans Ulrich Simon', 'Gary H. Glover', 'Chien Chou', 'Thierry Hurlimann', 'Dongryeol Lee', 'Ray Chu', 'Christian Rohrer', 'Emily A. Ronning', 'Vimal Chopra', 'Burkhard Kehrbusch', 'Kazumi Saito', 'Joseph Fortunak', 'Moritz Grosse-Wentrup', 'Arvind Agarwal', 'Alex John London', 'Sarah Bütof', 'Roel Snieder', 'Sandra Heiler', 'Guillaume Sicard', 'Mohammed J. Zaki', 'Zhiting Xu 0001', 'Martin Schiegg', 'Glenn Borchardt', 'Tajanka Mladenovska', 'Bernd Carsten Stahl', 'Simon Günter', 'Satoshi Morinaga', 'Bert van Wee', 'Masakazu Ishihata', 'Per Wikman-Svahn', 'Charles E. Harris', 'Hang Li', 'William G. Macready', \"Jun'ichi Takeuchi\", 'Sébastien Gerchinovitz', 'Lorenzo Rosasco', 'Giovanni M. Pes', 'Patrick Shafto', 'Jason Borenstein', 'Gregor Leban', 'Antoine Bordes', 'Oronzo Parlangeli', 'Ryan Hafen', 'Fabian Moerchen', 'Kazuyuki Aihara', 'Prateek Jain 0002', 'Han Xiao 0002', 'Sameer Agarwal 0001', 'Arto Klami', 'Verena Nitsch', 'Huda Fatima', 'Roland Seiffert', 'John Langford 0001', 'Michael Stonebraker', 'Don Blair', 'Jerry Jenkins', 'Arnon Rosenthal', 'Todd G. McKenzie', 'Trevor Darrell', 'Tristan Fletcher', 'Frauke Hoss', 'Dimitris Samaras', 'Ivica Slavkov', 'Mary M. Hausfeld', 'Hugh Miller', 'Martin Luckow', 'Ralph Scheubrein', 'Albert Bifet', 'Wojciech Kotlowski', 'Harald Steck', 'Ramani Duraiswami', 'Belinda B. King', 'Jörg H. Siekmann', 'Alexander Tsiatas', 'Mark Schweda', 'Thomas G. Dietterich', 'Eric Allender', 'Thomas Darwin', 'M. Böhm', 'Thomas Furmston', 'Wei Xiong Shang', 'Olivier Collier', 'Frank Scherbaum', 'Peter Morfeld', 'Vikash Mansinghka 0001', 'Pradeep Ravikumar', 'Yu Zhang 0006', 'Eftychios A. Pnevmatikakis', 'Mitja Trampus', 'Simon Rogers', 'István Szita', 'Sandhya Prabhakaran', 'Yuyang Wang', 'Junsong Yuan', 'Morteza Alamgir', 'Miriam Kunz', 'Fei Wang 0001', 'Christian Daniel', 'Sabrina Engel-Glatter', 'Michael Johanson', 'Vijay A. Saraswat', 'Thomas A. Litzinger', 'Akihiro Yamamoto', 'Wei Bian', 'Kate Millar', 'Igor N. Kovalenko', 'Paul Partlow', 'Dorothea Vafiadis', 'Susanne Neubert', 'Geoffrey Holmes 0001', 'Arnaud Bergeron', 'Aarti Singh', 'Abdelouahed Hamdi', 'Jinwoo Shin', 'Jing Lei 0003', 'Jovan Shopovski', 'Andreas Köhler', 'Holger Class', 'Charles Blundell', 'Ivan O. Kyrgyzov', 'Stéphane Ross', 'Pierre-Antoine Manzagol', 'Shannon Dosemagen', 'James P. Collins', 'Francesco Dinuzzo', 'Carlo Bellecci', 'Ingrid Daubechies', 'Jérémie Mary', 'Fabio Vitale', 'Olivier Cappé', 'Cosma Rohilla Shalizi', 'Jonas Buchli', 'Alexandros Kalousis', 'Qun Song 0003', 'Robert E. McGinn', 'Ohad Shamir', 'Niklas Hack', 'Bilge Günsel', 'Yasuo Tabei', 'Tian-Hsiang Huang', 'Magdy A. Kharoshah', 'Iain Murray 0001', 'André Platzer', 'A. Philip Dawid', 'Aaron Archer', 'Lawrence K. Saul', 'Yeslam Al-Saggaf', 'Ramez Elmasri', 'Yoshua Bengio', 'Andrew G. Howard', 'Orlando Cenciarelli', 'Bridget M. Noonan', 'Lambèr M. M. Royakkers', 'Alexander Mertens', 'Peter Antal', 'Saatviga Sudhahar', 'Le Dung Muu', 'John Shawe-Taylor', 'Narain H. Gehani', 'Shane Epting', 'Tomi Silander', 'Bhaskaran Unnikrishnan', 'C. Ould Ahmed Salem', 'Sean Valles', 'Haiyan Ye', 'Silvia Teresa Morales-Gualdrón', 'Inderjit S. Dhillon', 'Sebastiano Battiato', 'Saeed Amizadeh', 'Rensheng Wang', 'Tapio Salakoski', 'Jarkko Venna', 'Giovanni Rubeis', 'Ulrike Weiland', 'Arie Rip', 'Sai Choi Kwan', 'Angelika Storrer', 'Vladimir Rykov', 'Peter L. Bartlett', 'Udo Pletat', 'John W. Paisley', 'Gregory F. Cooper', 'Judy Illes', 'Petra Steffens', 'Mera Ababneh', 'Cléo Zanella Billa', 'Jun Morimoto', 'Arthur U. Asuncion', 'Ayse Erkan', 'Ryohei Fujimaki', 'Sophia Knopf', 'Emel Aközer', 'Tatjana Crnjanski', 'Thomas M. Breuel', 'Jianxin Yin', 'Daniel Gruss', 'Christian Widmer', 'Rob Fergus', 'Dean P. Foster', 'Amos K. Laar', 'Suchi Saria', 'Mladen Pecujlija', 'Michael Gutmann', 'Liam P. Maguire', 'Mohammad Emtiyaz Khan', 'Darren Schreiber', 'Kokou Yétongnon', 'Jeffrey T. Mason', 'Vojtech Stehel', 'Flemming Nielson', 'Klaus Lux', 'William M. Bulleit', 'Kareem Amin 0002', 'Monica Sweet', 'William J. Frey', 'Yotam Lurie', 'Sanasam Ranbir Singh', 'Marc Peter Deisenroth', 'Eric Jonas', 'Alex McKeown', 'Johannes Laudenberg', 'Chuanren Liu', 'Ashkan Jafarpour', 'Daniel Jurafsky', 'Michinari Momma', 'T. Prabhakar Clement', 'Timothy N. Atkinson', 'Arthur Caplan', 'Chunxia Wang', 'Satoru Iwata 0001', 'Constantin Comendant', 'Stefano Guidi', 'Cristian Timmermann', 'Heng Luo', 'Michal Valko', 'Robert E. Tillman', 'Thomas L. Griffiths 0001', 'Lucie White', 'Mohamed Dades', 'Falk Howar', 'Sundararajan Sellamanickam', 'Paul B. Hermanns', 'Manuel Guerrero', 'Andreas Krause 0001', 'Yifei Chen', 'Benjamin Recht', 'Hui Lu', 'Frederik Voetmann Christiansen', 'Shenghuo Zhu', 'Shamim A. Naqvi', 'David Koepsell', 'Marcello Ienca', 'Kohei Hayashi', 'Alexander Lorbert', 'Gert-Jan C. Lokhorst', 'David J. Kriegman', 'Noureddine Bettahar', 'Md Zahidul Islam 0001', 'Gregory Druck', 'Peter Kroes', 'Janardhan Rao Doppa', 'Amaury Habrard', 'Timothée Cour', 'Karin Neuhold', 'Reena Cheruvalath', 'Frederick Grinnell', 'Christine Killoran', 'Xuegang Hu', 'Zhuang Wang', 'Vito L. Punzi', 'C. T. Kelley', 'Vincent Chan', 'Wee Sun Lee', 'Sara H. Vollmer', 'Matthew Benjamin Reisman', 'Peter Willems', 'Debasis Sengupta', 'Yongxin Taylor Xi', 'Chihiro Shibata', 'Benjamin Packer', 'Jurgen Van Gael', 'Andreas Wendemuth', 'Mark Coeckelbergh', 'Rafael M. Frongillo', 'Shivani Agarwal 0001', 'Hardy Kremer', 'Chin-Liang Chang', 'Ricardo Bezerra de Andrade e Silva', 'Rongjing Xiang', 'Sushil Jajodia', 'Thomas Stibor', 'Chia-Mau Ni', 'Andreas P. Streich', 'Rustam Mubarakzjanov', 'Guido Nicolosi', 'Jennifer G. Dy', 'Eibe Frank', 'David Vogel', 'Zhiyong Liu 0001', 'Andreas Arning', 'Ioanna Semendeferi', 'Kilian Q. Weinberger', 'José M. Carmona-Cejudo', 'Jan L. Youtie', 'Gabriele Lombardi', \"Cathal D. O'Connell\", 'Masamichi Shimosaka', 'Mark Voortman', 'Geoffrey J. Gordon', 'Jens Dietrich 0001', 'Mladen Kolar', 'Marie-Sol Poirier', 'Chao-Kai Chiang', 'Linda Moy', 'Andreas Rock', 'Michael W. Kalichman', 'Peilin Zhao', 'Anthony J. Hayter', 'Gang Wang 0004', 'Jeroen van den Hoven', 'Guanyu Zhou', 'Xiaohui Xie', 'John C. Platt', 'Philippe A. Tanguy', 'Peter Bosch', 'Daan Schuurbiers', 'Cho-Jui Hsieh', 'Aamir Raoof Memon', 'Carole Federico', 'Patrick Justen', 'Maartje G. H. Niezen', 'Pavel Laskov', 'Jacob D. Abernethy', 'Mark D. Plumbley', 'Robert Kirkman', 'Shengjun Pan', 'Kjell Johan Sæbø', 'Matthew Grellette', 'Yuanqing Lin', 'Thomas Seidl 0001', 'Betty B. Chaar', 'Aaron C. Courville', 'Maarten C. A. van der Sanden', 'Scott Sanner', 'Fahime Asadi', 'Junwen Zhu', 'Michael P. Friedlander', 'Niklas Hoppe', 'Oliver Möller', 'Naresh Manwani', 'Tzu-Kuo Huang', 'Hossein Yahaghi', 'Sreangsu Acharyya', 'Suvrit Sra', 'Jeff M. Phillips', 'Yuan (Alan) Qi', 'Lorand Dali', 'Manuel Davy', 'Jan Rupnik', 'Vladimir Gorodetsky', 'Christopher D. Manning', 'Vram Kouramajian', 'Louise Bezuidenhout', 'Oliver Gutjahr', 'Hannes Nickisch', 'Andrzej Pastusiak', 'Kate Tairyan', 'Elena Dubrova', 'Kang Liu 0001', 'Qiang Liu 0001', 'D. Mike Titterington', 'Eric Mays', 'Ajit P. Singh', 'Jens Hofmann 0001', 'Amir Globerson', 'Dan Cornford', 'Guido Nolte', 'Robert J. Butera', 'Garry P. Nolan', 'Boris Kotchoubey', 'Nicolas Usunier', 'Jutta Kreiß', 'Mohammed Nadjib Khenkhar', 'Daniel M. Roy 0001', 'Paul Firenze', 'Christopher Kampe', 'Tuo Zhao', 'Clemens Lautemann', 'Zhen James Xiang', 'Shahriar Shariat', 'Ming Yuan', 'Yann LeCun', 'Zeno Gantner', 'Valery A. Petrushin', 'Vladimir Martyanov', 'Cynthia Rudin', 'Shai Shalev-Shwartz', 'Wei Chu', 'Leo Zhu', 'Giuseppe Nardiello', 'Katarina Valaskova', 'Ricard Gavaldà', 'Changhu Wang', 'Pekka Parviainen', 'Tijl De Bie', 'Bruce G. Lindsay 0001', 'Huan Liu', 'Nuaman Asbeh', 'Taesup Moon', 'Xavier Glorot', 'Siegfried Kanngießer', 'David Poole 0001', 'Qinghui Suo', 'Václav Struhár', 'Xiaohui Chen', 'Mohammad Lagzian', 'Mohammad Gheshlaghi Azar', 'Pierre Geurts', 'Alexander Böhm 0003', 'Cristina Pop 0002', 'Heidrun Åm', 'András Falus', 'Ichiro Takeuchi', 'Bo Thiesson', 'Angus MacLellan', 'D. Gnanaraj Thomas', 'Ravi Ganti', 'Sanjay Chawla', 'Mark Rudelson', 'Sara Goering', 'Hinrich Schütze', 'Jun Takagi', 'Udo Pesch', 'Chung-Yi Li', 'Keisuke Otaki', 'Marco Rosa', 'Yishay Mansour', 'Helen Morley', 'Zuzana Krifka Dobes', 'Rochelle E. Tractenberg', 'Pasquale Gaudio', 'Vibhav Gogate', 'Kai Lebeth', 'Tanguy Urvoy', 'Maria Misankova', 'Florian Jarre', 'Indraneel Mukherjee', 'Sebastian Nowozin', 'Jacob Spoelstra', 'Ali Ghodsi 0001', 'Brent Bryan', 'Brett S. Torrence', 'Auke J. K. Pols', 'Joemon M. Jose', 'Valentina Nisi', 'Ibo van de Poel', 'André Elisseeff', 'Sivan Sabato', 'Xianzhong Long', 'John P. Cunningham', 'Yonatan Amit', 'Alex A. Karner', 'Clayton Scott', 'Li-Yang Tan', 'Katrin Tomanek', 'Wei Chen', 'Shaunak Chatterjee', 'Oriol Vinyals', 'Alex Kulesza', 'James Clifford', 'Doniel Drazin', 'Olivier Chapelle', 'C.-J. Lin', 'Ulrich Hertrampf', 'Sumit Chopra', 'Justin Lewis', 'Karsten Weber', 'Nicole Krämer 0002', 'Michalis K. Titsias', 'Wei-Lun Su', 'Ioannis G. Tollis', 'Gert Smolka', 'Marco Fahl', 'Alain Braillon', 'Freida Ozavize Ayodele', 'Flordeliz Bugarin', 'Kyle Teague', 'Daniel A. McFarland', 'Hal Daumé III', 'Marko Toplak', 'Amin Asadi', 'Naoki Abe', 'Nakul Verma', 'Sven E. Krüger', 'Huan Liu 0001', 'Roberto Franzosi', 'Janice M. Ballou', 'Jue Wang', 'Yelena Yesha', 'Teemu Roos', 'Jörg Heinrich', 'Jacques Nicolas', 'Rocco A. Servedio', 'Guillaume Obozinski', 'Christoph Meinel', 'Mark F. Hornick', 'Róbert Busa-Fekete', 'S. Tom Au', 'Marina Meila', 'Victor Eruhimov', 'David M. Shaw', 'Matthias Hein 0001', 'Kornelius Rohmeyer', 'Verónica Romero 0001', 'Brendan J. Frey', 'M. Pawan Kumar', 'W. Nick Street', 'David Schwieder', 'Lluís A. Belanche Muñoz', 'Jessica Morley', 'Damián López', 'Giovanni Puglisi', 'Fernando Pereira', 'Alankrita Taneja', 'Fern Wickson', 'Jukka Varelius', 'Jun Wang 0017', 'Mátyás Brendel', 'Lisa H. Newton', 'Craig Smith', 'Hendrik F. Machiel Van der Loos', 'Harald Sack', 'Hsuan-Tien Lin', 'Michael Kallweit', 'Shipeng Yu', 'Edoardo M. Airoldi', 'Manuel Baena-García', 'Nadir Weibel', 'Eran Klein', 'Yves Deville', 'Qinfeng Shi', 'Esther Ezra', 'Bradford W. Wade', 'Christopher J. C. Burges', 'Shing-hon Lau', 'Sleiman Itani', 'Abdeslam Boularias', 'Markus Wiegelmann', 'Vishvas Vasuki', 'Matthieu Geist', 'Christopher Hart', 'Teresa A. Zimmers', 'Jan Lemeire', 'Alexander J. Smola', 'Alexander Bockmayr', 'Dakan Wang', 'Catherine Oriat', 'Alok Atreya', 'Min Li', 'Andrea Owe', 'Sarah M. Rovito', 'Reiner Hähnle', 'Jesse Read', 'Tarek Abudawood', 'Jana Kliestikova', 'Wei-Tau Lee', 'Anthony D. Joseph', 'Jan-J. Rückmann', 'Chun-Nam Yu', 'Hui Xiong 0001', 'Scott R. Glisson', 'Zach Piso', 'Tanuj Kanchan', 'Vân Anh Huynh-Thu', 'Pedro J. Moreno 0001', 'Guoqing Liu', 'Nicholas G. Polson', 'Carsten Ullrich', 'Celia Fernández-Aller', 'Hong Qiao', 'Priya Satalkar', 'Ana Marusic', 'Krishna G. Kulkarni', 'Han Liu 0001', 'Hongxia Yang', 'Alejandro P. Buchmann', 'Samy Bengio', 'Seth D. Baum', 'Edward Y. Chang', 'Haakon Michael Austad', 'Yair Weiss', 'Arie Segev', 'Dan Roth', 'Christoph Freudenthaler', 'Kristine Bærøe', 'Mario Malicki', 'Ryota Tomioka', 'Constantin F. Aliferis', 'Hirotaka Hachiya', 'Akihiro Koide', 'Michael J. Kuhar', 'Jessica M. Wyndham', 'Laurent Miclet', 'Corinna Cortes', 'Oded Shmueli', 'Anna Slobodová', 'Jakob Passweg', 'Gary Santillanes', 'Manfred Laumen', 'Shiau Hong Lim', 'Marko Grobelnik', 'Liang Xiang', 'Volker Schmidt', 'Raphaël Féraud', 'Ruslan Salakhutdinov', 'Yoram Singer', 'Zhao Zheng', 'David J. Weiss', 'Carrie J. McClelland', 'Bernhard Nebel', 'Antti Ajanki', 'Geoff Holmes 0001', 'Jessica Li', 'Markus Müller-Olm', 'Nina Frahm', 'Peter H. Schmitt', 'Milenko Rakic', 'Yong Yu 0001', 'J. D. Emerald', 'Caoxie Zhang', 'Takaki Makino', 'Bor Luen Tang', 'Ali Jalali', 'Jianying Hu', 'Frank P. Ferrie', 'Christos Garidis', 'Frank C. Meinecke', 'Yang Sui', 'Qichao Que', 'Philip Robichaud', 'Aleksey Polovinkin', 'Nora Freya Lindemann', 'Rohit Khandekar', 'Geerten van de Kaa', 'Christoph Beierle', 'Bernhard Schölkopf', 'Justin Ma', 'Thomas Perst', 'Jeffrey M. Warrender', 'Bjørn Hofmann', 'François Laviolette', 'Corinne Cath', 'Michael J. Zigmond', 'Yoshitaka Kameya', 'George Hanna', 'Sujay Sanghavi', 'Filippo Santoni de Sio', 'Jian Peng 0001', 'Kenneth L. Deckert', 'Edward Lloyd Snelson', 'Markus Casper', 'Hayaru Shouno', 'Sandra Wachter', 'Eric Riedl', 'Duy Khuong Nguyen', 'Sanjiv Kumar', 'S. Sathiya Keerthi', 'Christoph Lingenfelder', 'N. Lehdili', 'Carl Smith', 'Philippe Preux', 'Fabio Corradi', 'Jesse Engebretson', 'Bernd Walter', 'David Luengo', 'Andrea Grantham', 'Klaus Schwettmann', 'Loizos Michael', 'Eric M. Meslin', 'Volker Schulz 0001', 'Sebastian Maneth', 'Martina Mavrinac', 'Isabelle Wienand', 'Michelle Riske-Morris', 'Matthias Heinkenschloss', 'Shuheng Zhou', 'Michael Eckmann', 'Steven J. Lee', 'Aaron D. Levine', 'Robert S. Arnold', 'Seppo Virtanen', 'Christophe Costa Florêncio', 'Amit Daniely', 'Daniel L. Silver', 'Y-Lan Boureau', 'Valentin I. Spitkovsky', 'Anna Julie Rasmussen', 'Miguel Roig', 'Hong Chen', 'Jochen Trumpf', 'D. Parthasarathy', 'Kohei Hatano', 'Ugo Montanari', 'Francis R. Bach', 'Xiaotong Shen', 'Dan Perry', 'Rebecca K. Mimnall', 'Mehdi Dadkhah', 'Grace Wahba', 'Lan Umek', 'Chen-Hung Wu', 'Seyoung Kim', 'Johannes K. Lehnert', 'Hao Yang 0033', 'Vince D. Calhoun', 'Alexandra Carpentier', 'Wray L. Buntine', 'Martin Pal', 'Raghu Meka', 'Mohd Salim Mohamed', 'Georges-Auguste Legault', 'Xindong Wu 0001', 'Shengbo Guo', 'Qin-Rui Xing', 'Tracey Bretag', 'Michael Czymmeck', 'Zakria Hussain', 'Simona Hasková', 'James A. Stieb', 'Benjamin M. Marlin', 'Aaron Wilson', 'Mohammed Madadin', 'Werner Kernig', 'Michael Siracusa', 'Antoine Rauzy', 'Jathan Sadowski', 'Pavol Kral', 'Yun-Shan Fu', 'John Westwater', 'Aki Vehtari', 'Vladimir Samoilov', 'Noah A. Smith', 'Thomas Schwentick', 'Thomas Erlebach', 'Chavonda Jacobs-Young', 'Raphaël Bailly', 'Hans-Joachim Goltz', 'Marc Toussaint', 'Peter J. Ramadge', 'Tamás Éltetö', 'José G. B. Derraik', 'Michelle Takemoto', 'Julie Carreau', 'Yvette Graham', 'Susan A. Murphy', 'Prem Melville', 'Parikshit Gopalan', 'Yan Yan', 'B. S. Tam', 'Steven Puylaert', 'Omid Madani', 'Bailey C. Davis', 'Margaret Satterthwaite', 'Yin-Wen Chang', 'Behzad Ataie-Ashtiani', 'Andreas Ruttor', 'Eugene Weinstein', 'Fabio Aiolli', 'Henri-Corto Stoeklé', 'Alessio Moneta', 'Alexander Clark', 'Truyen Tran 0001', 'Barbara E. Ribeiro', 'Kevin Small', 'Mohammed Benssaou', 'Miroslaw Kutylowski', 'Matthew Hoffman 0002', 'Tamir Hazan', 'Kathryn J. Boor', 'João Gama 0001', 'Paolo Gardoni', 'James R. Foulds', 'Don Gotterbarn', 'Elad Mezuman', 'Rosa Lynn Pinkus', 'Jack Stilgoe', 'Vladimir Dyubanov', 'David J. Gunkel', 'Mahdi Tahmasebi', 'Luisa María Gil-Martín', 'Paul Kocher', 'Dimitri Efrosinin', 'Wei Zhou 0006', 'Maarten Botterman', 'Rahul Uday Nayak', 'Walter G. Olthoff', 'Matthew A. Allison', 'Alexander Rakhlin', 'James Tin-Yau Kwok', 'Enrique Hernández-Montes', 'Gregor Meyer', 'Michaël Perrot', 'Michael L. Brodie', 'David J. Eis', 'Inmar E. Givoni', 'Adrian Johnston', 'Tie-Yan Liu', 'Siara Isaac', 'Mirjam Dür', 'Li Tang 0005', 'Christian Barillot', 'Mariachiara Tallacchini', 'Guangqin Ma', 'David Wright 0003', 'Antonio Javier Gallego Sánchez', 'Florian Stimberg', 'Katie Caudle', 'Silvio Savarese', 'Peter Orchard', 'Karthik Sridharan', 'Rich Caruana', 'Prasun Dewan', 'Ansaf Salleb-Aouissi', 'José L. Balcázar', 'Victor Klee', 'Mário A. T. Figueiredo', 'Stasys Jukna', 'Marie-France Mamzer-Bruneel', 'Ilja L. Bongers', 'Gosse Bouma', 'Jean-Pierre Béland', 'Jagadish Rao Padubidri', 'Sonja Müller', 'Stephen A. Gallo', 'Birgit Wendholt', 'Kun Zhang 0001', 'Daniel Görgen', 'Miri Barak', 'P. S. Sastry', 'Olivier Ridoux', 'James Bergstra', 'Michel E. Adiba', 'D. Kleis', 'Gerhard F. Ecker', 'Maryam Alsadat Hashemipour', 'Nicole M. Smith', 'Antti Airola', 'Mingjun Zhong', 'M.-H. Tsai', 'Shuang-Hong Yang', 'James Petterson', 'Daniel D. Lee', 'Rosa Rodríguez-Sánchez', 'Burr Settles', 'Volker Klotz', 'Mirgita Frasheri', 'Matthias Ohrnberger', 'Olivier Pietquin', 'Jingu Kim', 'Thom W. Frühwirth', 'Donghui Wang', 'Thomas Ploug', 'Herbert G. Tanner', 'Daphne Koller', 'Alex Krizhevsky', 'Rosie Jones', 'Junya Honda', 'Daniel Stöckel', 'Wiley Greiner', 'Ellen-Marie Forsberg', 'M. Humrosia Begam', 'Mirwaes Wahabzada', 'Glenn Fung', 'Naonori Ueda', 'Laura Palucki Blake', 'Emilie Kaufmann', 'Mehrdad Mahdavi', 'Yuhong Guo', 'Joseph R. Herkert', 'Juan C. Lucena', 'Noam Paz', 'Bernhard Steffen', 'Anna Marousková', 'David J. C. MacKay', 'Yang Liu 0021', 'Josef Gemander', 'Liheng Xu', 'Shane Connelly', 'Behnam Taebi', 'Pieter van Dorst', 'John Turek', 'Arif Sari', 'Roger Strand', 'Drew Bagnell', 'Chun-Sung Ferng', 'Rüdiger Wirth', 'Kurt Eberle', 'Rachelle Hollander', 'Alexander R. Statnikov', 'Krishnakumar Balasubramanian 0002', 'Adrian Treloar', 'Vykinta Kligyte', 'Judy Goldsmith', 'Chun-Liang Li', 'Attahiru Sule Alfa', 'Sergey M. Plis', 'Risi Kondor', 'Marc Sebban', 'Andrew Sixsmith', 'David L. Evers', 'Ryan Mills', 'Zhixiang Eddie Xu', 'Mohammad R. Salavatipour', 'Silvia Villa', 'Willem-Paul Brinkman', 'Lisa A. Thompson', 'Mechthild Rickheit', 'Cezary Bolek', 'Leonidas J. Guibas', 'Lucas Drumond', 'Christian Hervé', 'Maru Mormina', 'Gerd Kortüm', 'Nicholas R. Gans', 'Vladimir Nikulin', 'Carola Calabuig', 'Michael Ley', 'Friedemann Leibfritz', 'Jürgen Huschens', 'Yoav Haimovitch', 'Fei Sha', 'Frits W. Vaandrager', 'Kurt Miller', 'Ping Li 0001', 'Shuicheng Yan', 'Steve Hanneke', 'Fuxin Li', 'Vitaly Feldman', 'Marek Vochozka', 'William T. Lynch', 'Jinbo Xu', 'Sandra L. Titus', 'Rob Lawlor', 'Bernice S. Elger', 'Boaz Nadler', 'Wei-Shih Lin', 'Harry Dankowicz', 'Andreas Stuhlmüller', 'Zalán Bodó', 'Lee Vinsel', 'Louise Bernier', 'Finbarr C. Martin', 'Milos Cekic', 'Yang Zhou 0033', 'Lawrence Cayton', 'Hanna M. Wallach', 'Stuart Russell 0001', 'Kihyuk Sohn', 'Peter Dierolf', 'Daniel O. David', 'Christopher Meek', 'Markus Roters', 'Terran Lane', 'Shang-Tse Chen', 'Martin Mundhenk', 'Adam Coates 0002', 'J. Zico Kolter', 'Simone Pribbenow', 'Chao Zhang 0017', 'Gary Rhoades', 'Matthew Sample', 'Mehreen Saeed', 'Kokab Khalili Paji', 'Philip Brey', 'Erika Spuchlakova', 'Tommaso Rizzo', 'Yuxi Li', 'Kristian Kersting', 'Ramón A. Feenstra', 'Neale Gibson', 'Bertrand Haas', 'Somsri Wiwanitkit', 'Juliana Montoya Ardila', 'Ulrike Schwall', 'Paramveer S. Dhillon', 'Slobodan Vucetic', 'Vesna Supak-Smolcic', 'Mustapha Benmansour', 'Nizar Bouguila', 'Artin Armagan', 'Vanessa Chenel', 'Robert C. Williamson', 'Eugene Tuv', 'Jörg Lücke', 'Liam Paninski', 'Enrique Vidal 0001', 'András György 0001', 'Xiaoli Z. Fern', 'Knut H. Sørensen', 'Gina M. Eosco', 'Daria Sorokina', 'Mike Kelley', 'Julian J. McAuley', 'Shashi K. Gadia', 'Wilfried Hötker', 'Lei Zhang 0001', 'Alekh Agarwal', 'David Wingate', 'Konstantinos Karydis', 'Tianbing Xu', 'Pham Ngoc Khanh', 'Margherita Caccamo', 'Morteza Haghir Chehreghani', 'Margareta Ackerman', 'Zeeshan Syed', 'Aapo Hyvärinen', 'Owen Thomas', 'Paul B. Thompson', 'Thierry Artières', 'Abhilash Kizhakenath', 'Erich Gehlen', 'Joey Tianyi Zhou', 'Laura Balzano', 'Peter Gerstl', 'Guha Balakrishnan', 'Nicolás Serrano', 'Peter Sturm 0001', 'David L. Applegate', 'Han Liu', 'Martin Frenz', 'Jakob Stenseke', 'Fabrizia Faustinella', 'Elaine E. Englehardt', 'Hyokun Yun', 'James G. Scott', 'Xinhua Zhang', 'Zhengdong Lu', 'Fabio Somenzi', 'Lothar Breuer', 'Jochen Nelles', 'Olivier Buffet', 'Marzieh Morovati', 'Matthieu Lerasle', 'David S. Rosenberg', 'Alexander Ihler', 'Eric Windisch', 'Farshad Nayeri', 'Ineke Malsch', 'Charles Verharen', 'Manfred K. Warmuth', 'Christopher Habel', 'Arnak S. Dalalyan', 'Lucia Svabova', 'Christopher K. I. Williams', 'Shizhong Liao', 'Christian Bauckhage', 'Wolfgang Effelsberg', 'Roni Khardon', 'Lars Schmidt-Thieme', 'Mike Hamburg', 'George R. Hoffmann', 'Nihat Kotluk', 'Beuy Joob', 'Cheng-Hao Tsai', 'Thea Riebe', 'Susan Dodds', 'Kewal Krishan', 'Hans Peter Graf', 'Wolfgang Wernecke', 'Sergey Kirshner', 'Eyal Krupka', 'Zhi Geng', 'Dimitrios Georgakopoulos', 'Patrick Pletscher', 'Michael Fink 0002', 'Bernd Sturmfels', 'Raphael Fonteneau', 'Colin de la Higuera', 'Lee H. Dicker', 'Russell George Thompson', 'Cynthia Selin', 'Stefan Böttcher', 'Ryo Yoshinaka', 'Mikhail Jiline', 'Jordan Gergov', 'Guillaume Bouchard', 'Rong Jin 0001', 'Francisco Casacuberta', 'Ankan Saha', 'Michael L. Littman', 'Andrew Y. Ng', 'Guido Ruivenkamp', 'Suleiman A. Khan', 'Erik Zawadzki', 'Hassen Doghmen', 'René von Schomberg', 'Zsolt Fekete', 'Rebecca Nast', 'John Tharakan', 'Ali Shirzadi', 'José M. Peña 0001', 'Andy Way', 'Peter Spirtes', 'Huan Xu', 'Vassilios Stathopoulos 0002', 'Aimee van Wynsberghe', 'Siti Nurani Mohd Nor', 'Hutan Ashrafian', 'Hans Uszkoreit', 'Raheleh Heidari Feidt', 'Kang G. Shin', 'Tyler J. Mulhearn', 'Minyoung Kim', 'Khoat Than', 'Robert Evans', 'Dirk Husmeier', 'Fernando De la Torre', 'Matthias Wille', 'Taiji Suzuki', 'Svetlana Lazebnik', 'Aaron Pratt Shepherd', 'Joseph S. Kong', 'Marek J. Druzdzel', 'Ali Rahimi', 'Xiaoou Liu', 'Heiner Semle', 'Michael Ruvimovich Davidson', 'Johanna Dwyer', 'Mika Suzuki', 'Hiroshi Sawada', 'Delia Murphy', 'Frank D. Wood', 'Doris Entner', 'H. V. Jagadish', 'Rafael Morales Bueno', 'Radhendushka Srivastava', 'Marcus A. Brubaker', 'Akiko Takeda', 'Kurt Rothermel', 'Arnaud Doucet', 'Paul von Bünau', 'Aurelia Tamò-Larrieux', 'Gábor Bartók', 'Adrian Müller', 'Katja Lenz', 'Alessandro Rinaldo', 'Bo Brinkman', 'Joseph K. Bradley', 'Shie Mannor', 'Tony Jebara', 'Yizhao Ni', 'Rainer Tichatschke', 'Tom Williams 0001', 'Christopher C. Johnson', 'Yufeng Liu', 'Katharina Schäfer', 'Yee Whye Teh', 'Mathieu Sinn', 'Heribert Vollmer', 'Bhushan Mandhani', 'Logan M. Steele', 'Olivier Delalleau', 'Amos J. Storkey', 'Frank Manola', 'Kenneth H. Funk II', 'Igor Martek', 'Satyen Kale', 'David B. Dunson', 'Gada F. Kadoda', 'Larry A. Wasserman', 'Ilse Oosterlaken', 'Emilio Delgado López-Cózar', 'Stefanie Jegelka', 'Ping Wang 0012', 'Vincent Menuz', 'Masahiro Kimura', 'Hema A. Murthy', 'Hadi Moradi', 'Denise Beaubien Bennett', 'Ryan Rifkin', 'Battista Biggio', 'Muhammad-Naeem Irfan', 'Dávid Pál', 'Guillermo A. Cecchi', 'Ilija Cosic', 'Balaji Krishnapuram', 'Ming-Syan Chen', 'Ananth Mohan', 'Tianyi Zhou 0001', 'Ipke Wachsmuth', 'Albert Maier', 'Mark D. Layson', 'D. Eberle', 'Tarcisio Abreu Saurin', 'Suresh Venkatasubramanian', 'Razvan Pascanu', 'Jun Zhao 0001', 'Lucian Busoniu', 'Carol R. Thrush', 'Daniel Genkin', 'Volker Roth 0001', 'David Buchman', 'Nicolò Cesa-Bianchi', 'Raymond S. Smith', 'Jing Xiao', 'Justin Donhauser', 'Montse Serra', 'Miroslava Sotáková', 'Claudia Maienborn', 'Yasin Abbasi-Yadkori', 'Carl Mitcham', 'Rémi Munos', 'Thomas Ludwig 0001', 'Penelope Engel-Hills', 'Seongjoon Koo', 'Syed Ather Hussain', 'Manfred Schmidt-Schauß', 'Ninghui Li', 'Fabian Kaelin', 'Benjamin X. Hall', 'Ian J. Goodfellow', 'Yuhan Yang', 'Stephen McCracken', \"Michael O'Rourke\", 'Pravesh Kothari', 'Peter Rasche', 'Dávid Siklósi', 'Yongmou Liu', 'Sebastian Schleidgen', 'Rómer Rosales', 'Dor Kedem', 'Yifan Hu 0001', 'Csaba Szepesvári', 'Tamás Kiss', 'Tim van Erven', 'Kotagiri Ramamohanarao', 'Céline Kermisch', 'Markus Weimer', 'Wolfhart Totschnig', 'Jennifer A. Brundage', 'Lars Lindblom', 'Yuan-Hsuan Lee 0001', 'Péter Csizsek', 'Sylvain Pannetier Lebeuf', 'Dong Wang', 'Samuel Kaski', 'Hiroaki Sasaki', 'David W. Flater', 'Chris Lovell', 'Claudio Gentile', 'Ming Ji', 'Steven C. H. Hoi', 'Simon P. Wilson 0001', 'Rémi Eyraud', 'Ryan Hubbard', 'Philip S. Yu', 'Emma Keuleyan', 'Martin Andersson', 'John D. Loike', 'Helmar Gust', 'Jorge Calera-Rubio', 'Chong Wang 0002', 'Odalric-Ambrym Maillard', 'Oliver Gronz', 'Grégoire Montavon', 'Xinbo Gao 0001', 'Jing He', 'Martha White', 'M. A. Osipova', 'Michele Lioj', 'Yehuda Koren', 'Shai Ben-David', 'Lutz Voelkel', 'Marie Szafranski', 'Ken-Yi Lin', 'Nima Taghipour', 'Mehmet Y. Tezcan', 'Karen Sachs', 'Oliver Stein', 'Hadjar Toumi', 'Kim Steenstrup Pedersen', 'Peter Grünwald', 'Colleen S.', 'Michelle Pham', 'John Walker Orr', 'Suzanne Aigrain', 'Melissa S. Anderson', 'Tong Zhang 0001', 'Jake Greenblum', 'Luca Bogoni', 'Venkatesh Saligrama', 'James M. Rehg', 'Ji Won Yoon', 'Karma Lekshe Tsomo', 'Yvan Saeys', 'Karim T. Abou-Moustafa', 'Lucas Regner', 'Matteo Pascucci', 'Anna Krizanova', 'Alexander Hufnagel', 'Sonia Maria Ramos de Vasconcelos', 'Dorthie Cross', 'Sven Ove Hansson', 'Manfred Grothaus', 'Paul Jones 0001', 'Luca Baldassarre', 'Alan Johnston', 'Christian Buck', 'Gang Niu 0001', 'Siddharth Pal', 'Todd Abraham', 'Werner Haas 0004', 'Bin Li 0027', 'Sham M. Kakade', 'David A. Castañón', 'Sébastien Bubeck', 'Nadine Chlass', 'Kamil Mamak', 'Stephen J. Roberts', 'Vladimir Jojic', 'Rui Diao', 'Jose A. García 0001', 'Svetlana Kiritchenko', 'Cameron E. Freer', 'Antje Schnarr', 'Peter D. Grünwald', 'Andreas Ziehe', 'Daniel Tarlow', \"Catherine D'Ignazio\", 'Purushottam Kar', 'Zsolt Minier', 'Bo Chen', 'Hanne Marie Nielsen', 'Alexander Ropson', 'Baptiste Jeudy', 'Roland Tormey', 'Hugh Desmond', 'Peter Stobbe', 'Kevin Robert Canini', 'Anne Schiller', 'Geoffrey Simmons', 'Genevera I. Allen', 'David Kempe 0001', 'Tom Børsen', 'Haiyan Wang', 'Hans-Joachim Novak', 'Gunter Bombaerts', 'Thapar Rekha', 'Moninder Singh', 'Kilho Shin', 'Helmut Seidl', 'Birgit Wesche', 'Christophe Le Tourneau', 'Adrienn Szabó', 'Wolfgang Schönfeld', 'Luis E. Ortiz', 'A. Lauren Crain', 'Diane S. Gilleland', 'Ivor W. Tsang', 'Ben Taskar', 'Przemyslawa Kanarek', 'Jim C. Huang', 'Christine Winberg', 'Hossein Azari Soufiani', 'Erik Laes', 'Ileana Di Pomponio', 'Gergely Neu', 'Andrew Lonie', 'Gerd Michelsen', 'Mehmet Aközer', 'Dan McArthur', 'Charles Sutton', 'Hisashi Kashima', 'Stephen Lane', 'Jan Tretmans', 'Brian P. Coppola', 'Eduard Fosch-Villaronga', 'Balamuralithara Balakrishnan', 'Ditmar Erdmann', 'John Wright 0001', 'Lev Reyzin', 'Kevin P. Murphy', 'Sajid M. Siddiqi', 'J. Andrew Bagnell', 'Sarah R. Davies', 'You Zhou 0001', 'Pushmeet Kohli', 'Mikko Koivisto', 'Mirjam Sophia Glessmer', 'Fan Chung Graham', 'Nabil R. Adam', 'Gudrun Klose', 'Linda J. Harris', 'Sidney W. A. Dekker', 'Peter Cerno', 'Steffen Grünewälder', 'Blake Shaw', 'Yuki Yamagishi', 'Richard S. Zemel', 'Michael J. Selgelid', 'Jaakko Hollmén', 'Charles Lee', 'Takamitsu Matsubara', 'Vincent Larivière', 'Marek Rusinkiewicz', 'Hui Wang', 'Thorsten Dickhaus', 'Blaise Hanczar', 'Tatiana Corejova', 'Mark J. Cook', 'Benjamin I. P. Rubinstein', 'Camille Nebeker', 'Jed Irvine', 'Orsolya Friedrich', 'Ralph J. Greenspan', 'Uros Petrovic', 'Maria Pina Dore', 'Heidi Jäger', 'Ulrich Holtmann', 'Nello Cristianini', 'Yuhong Yang', 'Debra Parrish', 'David Duvenaud', 'Shukai Li', 'Savita Lasrado', 'Fatemeh Azmandian', 'François Fages', 'Cassidy R. Sugimoto', 'Meisam Asadi', 'Dafna Shahaf', 'Honglak Lee', 'Si-Chi Chin', 'Blaine Nelson', 'Beniamino Di Martino', 'Vincent Q. Vu', 'Emmanuel Kingsford Owusu', 'Levi Boyles', 'Csaba Szalai', 'Francesca Incardona', 'Kuan-Wei Wu', 'Suresh K. Bhavnani', 'Gunnar Rätsch', 'Francesco Orabona', 'Jasmin Wilson', 'Michael J. Kearns', 'Vivekanand Gopalkrishnan', 'Furio Cerutti', 'Xiaotong Yuan', 'Kyung-Ah Sohn', 'Kai-Wei Chang', 'Tenzin Wangmo', 'Sofie Van Landeghem', 'Volker Schillings', 'Philipp Hennig', 'Peter Sunehag', 'Béatrice Godard', 'Pavlo Golik', 'Siwei Lai', 'Vera Watson', 'N. C. Narayanan', 'Patricia Reynaud-Bouret', 'Alon Orlitsky', 'Richard Socher', 'William E. Kastenberg', 'David Lisuk', 'Albert P. C. Chan', 'Matt Taddy', 'Phil Shaw', 'Tibor Kiss', 'Christian Stangier', 'Daisuke Okanohara', 'Matthew J. Brown', 'Hiyan Alshawi', 'Alard Roebroeck', 'Jarvis D. Haupt', 'Meihong Wang', 'Timothy A. Gonsalves', 'Jonathan Genest', 'Steven R. Kraaijeveld', 'Cheng Soon Ong', 'Rowena Rodrigues', 'Pedro A. Valdés-Sosa', 'Giorgio Valentini', 'Katharina Morik', 'Silvia Pandolfi', 'Edin Andelic', 'Sündüz Keles', 'Kevin M. Peterson', 'Shijun Wang', 'Philippe Codognet', 'Dirk Frosch-Wilke', 'Justin Smith 0004', 'Po-Wei Wang', 'Mark Dredze', 'Blaz Zupan', 'Yong Ge', 'D. Marx', 'Paola Palmitesta', 'Richard Scheines', 'Justin L. Hess', 'Willem Waegeman', 'Raymond A. Lorie', 'Indira Nair', 'Knut Jørgen Vie', 'Roi Livni', 'Mohammadamin Erfanmanesh', 'Thomas Lengauer', 'Ioannis T. Pavlidis', 'Keith W. Miller 0001', 'Markus Christen', 'Florian Steinke', 'Evangelos A. Theodorou', 'Hamed Valizadegan', 'Dale Schuurmans', 'Hung-Yi Lo', 'Emily B. Fox', 'Mathieu Salzmann', 'Daniel Andrés La Rotta Forero', 'Toni Bollinger', 'M. Wermke', 'Simon Lacoste-Julien', 'Krysta M. Svore', 'Bharat K. Bhargava', 'Igor Kuralenok', 'Catherine Woteki', 'Nathan Nan Liu', 'Suicheng Gu', 'Mohamed S. Kamel', 'Mark A. Girolami', 'Erika Palmer', 'Min Shi', 'Tim Voetmann', 'Adam Craig Pocock', 'Vikas Sindhwani', 'Ming Shan', 'Rachel L. Mintz', 'Harri Valpola', 'Petr Suler', 'Raj Tewari', 'Manfred Opper', 'Daniel García-Lorenzo', 'Christos Makridis', 'Dines Bjørner', 'Jonathan Bauer', 'Benedicte Wilson', 'Jacob Steinhardt', 'Yucheng Low', 'Feng Cheng 0002', 'Yi Zhang 0010', 'Ramesh Subramanian', 'Dilan Görür', 'Ricky Der', 'Michael Davis 0002', 'Decheng Dai', 'Warren B. Powell', 'Massimiliano Pontil', 'David R. Kaeli', 'Kathinka Evers', 'András Millinghoffer', 'Sunho Park', 'Ananda Theertha Suresh', 'Justin Domke', 'Viroj Wiwanitkit', 'Trinh Minh Tri Do', 'Bernice Elger', 'Philippe van Basshuysen', 'Ilya Sutskever', 'Noah D. Goodman', 'Avrim Blum', 'Ryota Izumi', 'Markus Höhfeld', 'María Luisa Martín Ruiz', 'Dmitry P. Vetrov', 'Manfred Jaeger', 'Jean-Louis Imbert', 'Pedro Ângelo', 'Thomas C. Erren', 'Yang Liu', 'Hava T. Siegelmann', 'Matthew Hunt', 'R. Bharat Rao', 'Sanjoy Dasgupta', 'Gerd Hoff', 'Sebastian R. Diaz', 'Kevin Spitler', 'F. Günthner', 'Ayan Acharya', 'Michael H. Bowling', 'Paul Kidwell', 'Weijia Wang 0001', 'Joachim Reiter', 'Marion Neumann', 'Frederick Eberhardt', 'Stephen Coggeshall', 'Peter V. Gehler', 'Adam R. Klivans', 'Yu-Feng Li', 'Robert E. Schapire', 'Gareth L. Jones 0001', 'Yi Hu', 'Xavier Muller', 'Le Song', 'John Aldo Lee', 'Brian Kulis', 'Changhe Yuan', 'Andrew J. Connolly', 'Mans Hulden', 'Michael Habeck', 'Daniel Eaton', 'Paul N. Bennett', 'Giorgio Giacinto', 'Anton Petrenko', 'Padhraic Smyth', 'Mohammad NasrEsfahani', 'Christopher R. Dance', 'George Wang', 'Ben A. Minteer', 'Jayadev Acharya', 'Matthias Transier', 'Magdalena Grohman', 'Yiyang Gao', 'Guillermo Sapiro', 'Cun-Hui Zhang', 'Stéphane Canu', 'Philippe Rigollet', 'Dieter Prangenberg', 'Kai Zhang 0001', 'Kelly Joslin Holloway', 'Jin Yu', 'Steven de Rooij', 'Tomaz Curk', 'Meghnaa Tallapragada', 'Satish Rao', 'Gardar Arnason', 'Daniel Polani', 'Jo-Anne Ting', 'Jian Zhang 0003', 'Nathan Srebro', 'Myriam Côté', 'Vincent Richman', 'Jayashree Nyayachavadi', 'Gayane Grigoryan', 'Damien Ernst', 'Ping Yan', 'Patrick Boissy', 'Joshua V. Dillon', 'Davide Ariu', 'Michael C. Loui', 'Abdel-rahman Mohamed', 'Antonio L. Lagarda', 'HongJiang Zhang', 'Logan L. Watts', 'Nikolay G. Zagoruiko', 'Eiji Takimoto', 'Masayuki Takeda', 'Joydeep Ghosh', 'Jelena Omazic', 'Timothy Hancock', 'Gad Perry', 'Christopher Leckie', 'Alessandro Rozza', 'Steve R. Gunn', 'Jessica Smith Rolston', 'Subhendu Bikash Hazra', 'James Sharpnack', 'Bernhard Beckert', 'Nic Schraudolph', 'Igino Corona', 'David H. Stern', 'Dmitry Pechyony', 'Silvia Venier', 'Rockwell F. Clancy', 'Francesco Bartolucci', 'Janneke van de Loo', 'Krzysztof Lorys', 'Hasan Ibne Akram', 'Ning Situ', 'Stefan Schaal', 'Jens Kober', 'Ralf Herbrich', 'Ulrike von Luxburg', 'Parham Aarabi', 'Søren Holm', 'Alexander Paprotny', 'Min Yang', 'Richard Meissner', 'Mikel Luján', 'Jenny Krutzinna', 'Shannon L. Spruit', 'Mauricio A. Álvarez', 'Elisabeth Breidt', 'Eloy Portillo', 'Matthew J. Streeter', 'François Coste', 'Bernhard Pfahringer', 'Akimichi Takemura', 'Diana Adela Martin', 'Ramón Queraltó', 'India C. Plough', 'Yuan Yao 0011', 'Michael McCann', 'Jérôme Malick', 'Courtney E. Williams', 'Thomas R. Scott', 'Kurt Mehlhorn', 'Haldun M. Özaktas', 'Arun Rajkumar', 'Jan Ramon', 'Jasmina Bogojeska', 'Wei Du', 'Christoph Lutz', 'Anthony Tran', 'Jürgen Manowsky', 'David B. Allison', 'Matteo E. Bonfanti', 'Cesar Koirala', 'Ambuj Tewari', 'Katherine A. McComas', 'Seumas Miller', 'Matko Marusic', 'Cédric Archambeau', 'David P. Helmbold', 'Ryan Marshall Felder', 'Tomomasa Sato', 'Yi-Kuang Ko', 'Alexandros Karatzoglou', 'Simo Särkkä', 'Sivaraman Balakrishnan', 'Christos Dimitrakakis', 'Kristin Berry', 'Byron Newberry', 'Alexandre Klementiev', 'Vicenç Gómez', 'Shou-De Lin', 'Yu-Cheng Chou', 'Reto W. Kressig', 'Peter Sandøe', 'Ido Dagan', 'Alejandra Boni', 'Lawrence Carin', 'Richa Mukhra', 'Patricia H. Werhane', 'Adam Briggle', 'Louise A. Dennis', 'Eyal Arian', 'Lamia Kara', 'Mark J. Schervish', 'Jens Forster', 'Patrick Doetsch', 'Jeffrey Heinz', 'Crtomir Gorup', 'Hachem Kadri', 'Pinar Donmez', 'Arne Pott', 'Hubert Comon', 'Stefan Benzschawel', 'Tianqi Chen', 'Marc Lampe', 'Salah Rifai', 'Lei Wang', 'Rina Foygel', 'Marco Grzegorczyk', 'Taraswi Banerjee', 'Carlos Eduardo Scheidegger', 'Rainer Helmig', 'Scott Leishman', 'Bao-Gang Hu', 'James A. Blumenthal', 'Glen Miller', 'Manjur S. Kolhar', 'Andreas Brieden', 'Zhi-Hua Zhou', 'Ernest Mwebaze', 'Nuno Correia 0001', 'Alexander N. Dolia', 'Matthew A. Butkus', 'Stefano Spaccapietra', 'Shahar Chen', 'Jonathan D. Chang', 'Jouni Hartikainen', 'Bruno Turnheim', 'Zoubin Ghahramani', 'Andreas Janecek', 'Faisal Farooq', 'Chih-Jen Lin', 'Jacob Eisenstein', 'Chao Zuo', 'Finale Doshi', 'Adèle Paul-Hus', 'David Buitenweg', 'Mishaal Talish', 'Teresa Luu', 'James A. E. Macpherson', 'Petra Schulz', 'Emily Bell', 'Giovanni Maria Farinella', 'Tim Oates 0001', 'Yuval Yarom', 'Elham Salehi', 'William S. Cleveland', 'Petra Maier', 'Avleen Singh Bijral', 'Stefan Bayerl', 'Xun Lu', 'Iñaki Inza', 'Stefan Börner', 'Chen-Tse Tsai', 'Bryn Williams-Jones', 'Michael McNamee', 'Vladimir Pavlovic 0001', 'Makoto Yamada', 'Karin J. Metzner', 'Antonino Freno', 'Kouzou Ohara', 'Claudia Mrotzek', 'Thomas P. Seager', 'Lars Klüver', 'Daniel A. Spielman', 'Gregory J. Morgan', 'Eran Tromer', 'Shota Yasutake', 'Leonidas G. Koniaris', 'Ingo Steinwart', 'Magalie Fromont', 'P. Klug-Lier', 'Junhui Wang', 'Amos Darko', 'Elizabeth A. Boyd', 'Teresa Rinaldi', 'Aditya V. Nori', 'Mahito Sugiyama', 'Yuhua Li 0001', 'Qiang Yang 0001', 'Cristina Tîrnauca', 'Lisa M. Rasmussen', 'Gautam Dasarathy', 'Masanori Kawakita', 'Steffen Steinert', 'Léon Bottou', 'Gowtham Bellala', 'Harish Karnick', 'Roberto Cervelló-Royo', 'Alexander Hevelke', 'Karin Klabunde', 'Markus Breitenbach', 'Matthew J. Drake', 'Shunhai Qu', 'Eddie Conlon', 'Neil D. Lawrence', 'Huyen Do', 'Vasil S. Denchev', 'Wei Gao 0008', 'Omar Ali', 'Patrick L. Taylor', 'Erika Pärn', 'Majid Nili Ahmadabadi', 'Latifah Amin', 'Bodhisattva Sen', 'John Smith Jones', 'Elias Bareinboim', 'Siome Goldenstein', 'Irina Rish', 'Zerrin Isik', 'Jochen Garcke', 'Hyekyoung Lee', 'Tristan J. McIntosh', 'Jake VanderPlas', 'Julian Kinderlerer', 'Luciano Floridi', 'Koji Tsuda', 'Daniel Lee', 'Ingrid Olesen', 'Changshui Zhang', 'Hui Fang 0006', 'Saso Dzeroski', 'Brian Eriksson', 'Michael D. Mumford', 'Roger King', 'Norbert Th. Müller', 'Alexander G. Gray', 'Karsten Klint Jensen', 'Menno van Zaanen', 'Dahua Lin', 'Sándor Szedmák', 'Jaakko Riihimäki', 'Tom Heskes', 'Zoë Robaey', 'Robert D. J. Smith', 'Harald Luschgy', 'Wilfried N. Gansterer', 'Olga Kutnenko', 'Yan Liu 0002', 'Klaus-Robert Müller', 'E. F. Codd', 'Christine Aicardi', 'Huai Sun', 'Nan Ding 0002', 'Kumar V. Vadaparty', 'Petri Kontkanen', 'Morten Mørup', 'Marc Boullé', 'Amarjeet Singh 0004', 'Shinichi Nakajima', 'Angi Voß', 'Ksenia Gerasimova', 'Ioannis Tsamardinos', 'Bryan R. Conroy', 'Libby Kinsey', 'David A. Sontag', 'Tu Bao Ho', 'Michael G. Anderson', 'Michal Rosen-Zvi', 'Alessandro Lazaric', 'Slavé Petrovski', 'George Karypis', 'Mingyuan Zhou', 'Yung-Kyun Noh', 'Shu-Hao Yu', 'Deepak Agarwal', 'Jean Honorio', 'Jingyuan Lv', 'Zheng Chen', 'Nick Roussopoulos', 'Werner Emde', 'Georgina Voss', 'Haesun Park', 'Ritesh G. Menezes', 'Bastian Wemmenhove', 'Sebastian Spiegler', 'John M. Winn', 'David G. Larman', \"Lhassan M'Barki\", 'Qiang Wu', 'Hagit Keysar', 'Nevena Lazic', 'Naftali Tishby', 'Troy E. Hall', 'Dominik Janzing', 'Ayanna M. Howard', 'Kedar Bellare', 'Simisola Akintoye', 'Galen Andrew', 'Jan Saputra Müller', 'Franz J. Király', 'Mirko Savic', 'Tankred Rautert', 'Olivier Nicol', 'Ewald Lang', 'Martina Horvat', 'Steven Umbrello', 'Duncan A. J. Blythe', 'Andriy Mnih', 'Sandy Clarke', 'Christian Fecht', 'Rasheed Al Kotob', 'Yann N. Dauphin', 'Héctor Corrada Bravo', 'Eunho Yang', 'Donald Lien', 'George Karabatis', 'Victoria Kostina', 'Ekkehard W. Sachs', 'Danny Bickson', 'Rudy Setiono', 'Jieping Ye', 'Armando Segura-Naya', 'Yichuan Tang', 'Alberto Giovanni Busetto', 'Clyde Briant', 'Geoffrey E. Hinton', 'Joachim Maier', 'Kyle Powys Whyte', 'Carlos Guestrin', 'Arthur Gretton', 'Jacques Wainer', 'Jaakko Peltonen', 'Stanley Y. W. Su', 'Noam Koenigstein', 'Wiebke Werft', 'Daniela Glavanicová', 'Maria Paola Ferretti', 'Malte Isberner', 'Wilfried Brauer', 'Anton Oleinik', 'Tetsuro Morimura', 'Katsuhiko Ishiguro', 'Avishek Saha', 'Julie L. Swann', 'Alfred M. Bruckstein', 'Alex Po Leung', 'E. Levitin', 'Hasnah Binti Haron', 'Henri Maître', 'Shahrzad Zoghitavana', 'Rodolphe Jenatton', 'Ingo Raasch', 'Michael A. Osborne', 'Mathieu Bouville', 'Aurélie C. Lozano', 'Iman A. Basheti', 'Zaïd Harchaoui', 'István Bíró', 'Jierui Xie', 'Dalal M. Al Tamimi', 'Karen B. Schmaling', 'Anil K. Seth', 'Yao-Nan Chen', 'Avneesh Singh Saluja', 'Kevin T. FitzGerald', 'Olgierd Unold', 'Peter C. Lockemann', 'Liang Tian', 'Sepehr Pourmonajemzadeh', 'Florin Constantin', 'Juho Rousu', 'Pierre Baldi', 'Ruimin Shen', 'Kai Mao', 'Qirong Ho', 'Matthias W. Seeger', 'Ann B. Lee', 'Olivier Teytaud', 'Patrick A. V. Hall', 'Eduardo R. Hruschka', 'Frédéric Gilbert 0003', 'Sinno Jialin Pan', 'Wentao Fan', 'Gilles Blanchard', 'Miguel Á. Carreira-Perpiñán', 'Mei Lang Fang', 'Changzhang Wang', 'Yue Liang Zheng', 'Tai Sing Lee', 'Matthew J. Dennis', 'Jesse Davis', 'Elisabeth Neugebauer', 'Sylvia C. Pont', 'David A. Van Dyk', 'Rainer Bäuerle', 'Thorsten Joachims', 'Dmitry Kropotov', 'Tobias Petri', 'Ruth Urner', 'Adam Woznica', 'Michael Siebers', 'Herman Paul', 'Matteo Ré', 'Svetha Venkatesh', 'Hubertus Th. Jongen', 'Bo Xie 0002', 'Phillip C.-Y. Sheu', 'Aleksandrs Slivkins', 'Frida Simonstein', \"Abeer M. Rababa'h\", 'Anja Theuner', 'Jianjun Xie', 'Bart Geurts', 'Bernard Zenko', 'Douglas Walton', 'Xi Chen 0010', 'Anna Choromanska', 'Ilias N. Flaounas', 'George C. Banks', 'Yusu Wang', 'M. Jayasrirani', 'Frances S. Grodzinsky', 'Kenneth V. Iserson', 'Jyri J. Kivinen', 'Marco Tacca', 'Barry Bozeman', 'Sheila Bonde', 'Jason L. Williams', 'Nino Shervashidze', 'Hiroshi Mamitsuka', 'Mark S. Davis', 'Viktoria Rojkova', 'Jianbo Shi', 'Marcel Mertz', 'Hei Chan', 'Huijun He', 'Matus Telgarsky', 'Ata Kabán', 'Venkat Chandrasekaran', 'Bernd Abb', 'Robert Frodeman', 'Christopher Brandl', 'Bert Kappen', 'Carl Henrik Ek', 'Laurens van der Maaten', 'Alexandra Kapeller', 'Florin Popescu', 'Karl Dotzek', 'Bharat Rao', 'Matteo Santoro', 'Fernando Pereira 0003', 'S. Rotin', 'Michael Jahrer', 'Ling Huang', 'Christoph W. Keßler', 'Marius Kloft', 'Jonathan Huang', 'Vishy Vishwanathan', 'Jinnie M. Garrett', 'Stephanie Solomon Cargill', 'Dumitru Erhan', 'Hoang Vu Nguyen', 'Azadeh Khaleghi', 'Weiran Wang', 'Egon Börger', 'Marco Gilbert', 'Javier Malagón', 'Douglas Aberdeen', 'Felix V. Agakov', 'Steven M. Flipse', 'Michael Herweg', 'Tibério S. Caetano', 'Tianbao Yang', 'Frauke Koppelin', 'Ben Recht', 'Mingmin Chi', 'Kamalika Chaudhuri', 'Marc Henniges', 'Chenlei Leng', 'M. Reza Hosseini', 'Jameson M. Wetmore', 'Nader Rahbar', 'Botond Cseke', 'Liva Ralaivola', 'Esther König', 'François Savard', 'Jason Eisner', 'Frédéric Bastien', 'Shankar Krishnan', 'Gabrielle Wong-Parodi', 'Joel L. Wolf', 'Michel Rueher', 'Dario García-García', 'Ophir Frieder', 'David M. Blei', 'Chia-Hsuan Wang', 'Charlotte Stix', 'Bruce V. Lewenstein', 'Miklós Kurucz', 'Michael Demel', 'Gaëlle Garet', 'Ryoma Kawajiri', 'Priya Krishnan Sundararajan', 'Weixin Xie', 'Francesca Rossi', 'Kai von Luck', 'Alan Fern', 'Margaret C. Thompson', 'K. Hun Mok', 'Sven Nyholm', 'Li Wan', 'Vianney Perchet', 'Xiaojing Yuan', 'Dieter Fensel', 'Alan H. McGowan', 'Yutian Chen', 'Ulrich Raber', 'Raphael Cohen-Almagor', 'Xia Ning', 'S. Derin Babacan', 'Astrid Schmücker-Schend', 'Rui Fukui', 'Tetsuya Takamori', 'Sheila Slaughter', 'Guy Lebanon', 'Mikkel Willum Johansen', 'Grant Fore', 'Guillaume Stempfel', 'Patrick Reuther', 'Elena Diller', 'Bernardino Romera-Paredes', 'Marius Leordeanu', 'Anders Braarud Hanssen', 'Jeremy Lewi', 'Jinfeng Zhuang', 'Antonio Torralba 0001', 'Nguyen V. Thoai', 'Cheng Zheng', 'Raquel Urtasun', 'Fábio N. Kepler', 'Andreas Neumann 0001', 'Joshua B. Tenenbaum', 'Qin Zhu', 'Ewout van den Berg', 'Jan Peters 0001', 'Kari A. Baldwin', 'Weishu Liu 0001', 'Stefan J. Schierholz', 'Shin-ichi Minato', 'Balázs Kégl', 'Philipp Kranen', 'Nick Mosdell', 'Nikhil Rao 0001', 'Sofia Mosci', 'Max Welling', 'Andrew Guillory', 'Lisa M. Dolling', 'Margherita Bracci', 'Carter T. Butts', 'Petra Kaferle', 'Dazhuo Li', 'Erick Lavoie', 'Ahmed Fouad Bouras', 'Anoop Korattikara Balan', 'Mark D. Reid', 'Panagiotis Tsiamyrtzis', 'Prasanna Mithra', 'Frederick H. Lochovsky', 'Shlomo Zilberstein', 'Domagoj Markovic', 'Maxim Raginsky'}\n"
     ]
    }
   ],
   "source": [
    "all_authors  = all_authors_journal.union(all_authors_inproceedings)\n",
    "print(all_authors)"
   ]
  },
  {
   "cell_type": "code",
   "execution_count": 10,
   "metadata": {},
   "outputs": [
    {
     "name": "stderr",
     "output_type": "stream",
     "text": [
      "/var/folders/49/ptrwr_w135x7rbt0__3kv5080000gp/T/ipykernel_60756/293064379.py:2: DeprecationWarning: Sampling from a set deprecated\n",
      "since Python 3.9 and will be removed in a subsequent version.\n",
      "  articles['reviewers']= articles.apply(lambda x: '|'.join(random.sample(all_authors_journal-set(str(x['author']).split('|')),2)), axis=1)\n"
     ]
    }
   ],
   "source": [
    "## Assign Reviewer for Journal\n",
    "articles['reviewers']= articles.apply(lambda x: '|'.join(random.sample(all_authors_journal-set(str(x['author']).split('|')),2)), axis=1)"
   ]
  },
  {
   "cell_type": "code",
   "execution_count": 11,
   "metadata": {},
   "outputs": [
    {
     "name": "stderr",
     "output_type": "stream",
     "text": [
      "/var/folders/49/ptrwr_w135x7rbt0__3kv5080000gp/T/ipykernel_60756/1994310043.py:2: DeprecationWarning: Sampling from a set deprecated\n",
      "since Python 3.9 and will be removed in a subsequent version.\n",
      "  inproceedings['reviewers']= inproceedings.apply(lambda x: '|'.join(random.sample(all_authors_journal-set(str(x['author']).split('|')),2)), axis=1)\n"
     ]
    }
   ],
   "source": [
    "## Assign Reviewer for Journal\n",
    "inproceedings['reviewers']= inproceedings.apply(lambda x: '|'.join(random.sample(all_authors_journal-set(str(x['author']).split('|')),2)), axis=1)"
   ]
  },
  {
   "cell_type": "code",
   "execution_count": 12,
   "metadata": {},
   "outputs": [
    {
     "data": {
      "text/html": [
       "<div>\n",
       "<style scoped>\n",
       "    .dataframe tbody tr th:only-of-type {\n",
       "        vertical-align: middle;\n",
       "    }\n",
       "\n",
       "    .dataframe tbody tr th {\n",
       "        vertical-align: top;\n",
       "    }\n",
       "\n",
       "    .dataframe thead th {\n",
       "        text-align: right;\n",
       "    }\n",
       "</style>\n",
       "<table border=\"1\" class=\"dataframe\">\n",
       "  <thead>\n",
       "    <tr style=\"text-align: right;\">\n",
       "      <th></th>\n",
       "      <th>id</th>\n",
       "      <th>author</th>\n",
       "      <th>author-aux</th>\n",
       "      <th>author-orcid</th>\n",
       "      <th>booktitle</th>\n",
       "      <th>cdate</th>\n",
       "      <th>cdrom</th>\n",
       "      <th>cite</th>\n",
       "      <th>cite-label</th>\n",
       "      <th>crossref</th>\n",
       "      <th>...</th>\n",
       "      <th>publtype</th>\n",
       "      <th>sub</th>\n",
       "      <th>sup</th>\n",
       "      <th>title</th>\n",
       "      <th>title-bibtex</th>\n",
       "      <th>tt</th>\n",
       "      <th>url</th>\n",
       "      <th>volume</th>\n",
       "      <th>year</th>\n",
       "      <th>reviewers</th>\n",
       "    </tr>\n",
       "  </thead>\n",
       "  <tbody>\n",
       "    <tr>\n",
       "      <th>0</th>\n",
       "      <td>0</td>\n",
       "      <td>Daniel Genkin|Daniel Gruss|Michael Schwarz 000...</td>\n",
       "      <td>NaN</td>\n",
       "      <td>NaN</td>\n",
       "      <td>NaN</td>\n",
       "      <td>NaN</td>\n",
       "      <td>NaN</td>\n",
       "      <td>NaN</td>\n",
       "      <td>NaN</td>\n",
       "      <td>NaN</td>\n",
       "      <td>...</td>\n",
       "      <td>informal</td>\n",
       "      <td>NaN</td>\n",
       "      <td>NaN</td>\n",
       "      <td>Spectre Attacks: Exploiting Speculative Execut...</td>\n",
       "      <td>NaN</td>\n",
       "      <td>NaN</td>\n",
       "      <td>NaN</td>\n",
       "      <td>NaN</td>\n",
       "      <td>2018</td>\n",
       "      <td>Gianmarco Baldini|Tenzin Wangmo</td>\n",
       "    </tr>\n",
       "    <tr>\n",
       "      <th>1</th>\n",
       "      <td>1</td>\n",
       "      <td>Daniel Genkin|Daniel Gruss|Michael Schwarz 000...</td>\n",
       "      <td>NaN</td>\n",
       "      <td>NaN</td>\n",
       "      <td>NaN</td>\n",
       "      <td>NaN</td>\n",
       "      <td>NaN</td>\n",
       "      <td>NaN</td>\n",
       "      <td>NaN</td>\n",
       "      <td>NaN</td>\n",
       "      <td>...</td>\n",
       "      <td>informal</td>\n",
       "      <td>NaN</td>\n",
       "      <td>NaN</td>\n",
       "      <td>Meltdown</td>\n",
       "      <td>NaN</td>\n",
       "      <td>NaN</td>\n",
       "      <td>NaN</td>\n",
       "      <td>NaN</td>\n",
       "      <td>2018</td>\n",
       "      <td>Gianpiero Cabodi|Peter Kroes</td>\n",
       "    </tr>\n",
       "    <tr>\n",
       "      <th>2</th>\n",
       "      <td>3</td>\n",
       "      <td>Frank Manola</td>\n",
       "      <td>NaN</td>\n",
       "      <td>NaN</td>\n",
       "      <td>NaN</td>\n",
       "      <td>NaN</td>\n",
       "      <td>NaN</td>\n",
       "      <td>NaN</td>\n",
       "      <td>NaN</td>\n",
       "      <td>NaN</td>\n",
       "      <td>...</td>\n",
       "      <td>informal</td>\n",
       "      <td>NaN</td>\n",
       "      <td>NaN</td>\n",
       "      <td>An Evaluation of Object-Oriented DBMS Developm...</td>\n",
       "      <td>NaN</td>\n",
       "      <td>NaN</td>\n",
       "      <td>db/journals/gtelab/index.html#TR-0263-08-94-165</td>\n",
       "      <td>TR-0263-08-94-165</td>\n",
       "      <td>1994</td>\n",
       "      <td>Ivana Tadic|M. A. Osipova</td>\n",
       "    </tr>\n",
       "    <tr>\n",
       "      <th>3</th>\n",
       "      <td>4</td>\n",
       "      <td>Michael L. Brodie|Michael Stonebraker</td>\n",
       "      <td>NaN</td>\n",
       "      <td>NaN</td>\n",
       "      <td>NaN</td>\n",
       "      <td>NaN</td>\n",
       "      <td>NaN</td>\n",
       "      <td>NaN</td>\n",
       "      <td>NaN</td>\n",
       "      <td>NaN</td>\n",
       "      <td>...</td>\n",
       "      <td>informal</td>\n",
       "      <td>NaN</td>\n",
       "      <td>NaN</td>\n",
       "      <td>DARWIN: On the Incremental Migration of Legacy...</td>\n",
       "      <td>NaN</td>\n",
       "      <td>NaN</td>\n",
       "      <td>db/journals/gtelab/index.html#TR-0222-10-92-165</td>\n",
       "      <td>TR-0222-10-92-165</td>\n",
       "      <td>1993</td>\n",
       "      <td>Heike Felzmann|Barbara K. Redman</td>\n",
       "    </tr>\n",
       "    <tr>\n",
       "      <th>4</th>\n",
       "      <td>5</td>\n",
       "      <td>Farshad Nayeri|Joe D. Morrison|Mark F. Hornick</td>\n",
       "      <td>NaN</td>\n",
       "      <td>NaN</td>\n",
       "      <td>NaN</td>\n",
       "      <td>NaN</td>\n",
       "      <td>NaN</td>\n",
       "      <td>NaN</td>\n",
       "      <td>NaN</td>\n",
       "      <td>NaN</td>\n",
       "      <td>...</td>\n",
       "      <td>informal</td>\n",
       "      <td>NaN</td>\n",
       "      <td>NaN</td>\n",
       "      <td>Integrating Heterogeneous, Autonomous, Distrib...</td>\n",
       "      <td>NaN</td>\n",
       "      <td>NaN</td>\n",
       "      <td>db/journals/gtelab/index.html#TR-0174-12-91-165</td>\n",
       "      <td>TR-0174-12-91-165</td>\n",
       "      <td>1991</td>\n",
       "      <td>Helen Morley|Hendrik F. Machiel Van der Loos</td>\n",
       "    </tr>\n",
       "    <tr>\n",
       "      <th>...</th>\n",
       "      <td>...</td>\n",
       "      <td>...</td>\n",
       "      <td>...</td>\n",
       "      <td>...</td>\n",
       "      <td>...</td>\n",
       "      <td>...</td>\n",
       "      <td>...</td>\n",
       "      <td>...</td>\n",
       "      <td>...</td>\n",
       "      <td>...</td>\n",
       "      <td>...</td>\n",
       "      <td>...</td>\n",
       "      <td>...</td>\n",
       "      <td>...</td>\n",
       "      <td>...</td>\n",
       "      <td>...</td>\n",
       "      <td>...</td>\n",
       "      <td>...</td>\n",
       "      <td>...</td>\n",
       "      <td>...</td>\n",
       "      <td>...</td>\n",
       "    </tr>\n",
       "    <tr>\n",
       "      <th>995</th>\n",
       "      <td>29100</td>\n",
       "      <td>Cristian Timmermann</td>\n",
       "      <td>NaN</td>\n",
       "      <td>0000-0001-7935-2823</td>\n",
       "      <td>NaN</td>\n",
       "      <td>NaN</td>\n",
       "      <td>NaN</td>\n",
       "      <td>NaN</td>\n",
       "      <td>NaN</td>\n",
       "      <td>NaN</td>\n",
       "      <td>...</td>\n",
       "      <td>NaN</td>\n",
       "      <td>NaN</td>\n",
       "      <td>NaN</td>\n",
       "      <td>Sharing in or Benefiting from Scientific Advan...</td>\n",
       "      <td>NaN</td>\n",
       "      <td>NaN</td>\n",
       "      <td>db/journals/see/see20.html#Timmermann14</td>\n",
       "      <td>20</td>\n",
       "      <td>2014</td>\n",
       "      <td>Wolfgang Wernecke|Libby Kinsey</td>\n",
       "    </tr>\n",
       "    <tr>\n",
       "      <th>996</th>\n",
       "      <td>29101</td>\n",
       "      <td>Bo Brinkman</td>\n",
       "      <td>NaN</td>\n",
       "      <td>0000-0003-2951-2141</td>\n",
       "      <td>NaN</td>\n",
       "      <td>NaN</td>\n",
       "      <td>NaN</td>\n",
       "      <td>NaN</td>\n",
       "      <td>NaN</td>\n",
       "      <td>NaN</td>\n",
       "      <td>...</td>\n",
       "      <td>NaN</td>\n",
       "      <td>NaN</td>\n",
       "      <td>NaN</td>\n",
       "      <td>An Analysis of Student Privacy Rights in the U...</td>\n",
       "      <td>NaN</td>\n",
       "      <td>NaN</td>\n",
       "      <td>db/journals/see/see19.html#Brinkman13</td>\n",
       "      <td>19</td>\n",
       "      <td>2013</td>\n",
       "      <td>Troy E. Hall|Alexander Kaplan</td>\n",
       "    </tr>\n",
       "    <tr>\n",
       "      <th>997</th>\n",
       "      <td>29102</td>\n",
       "      <td>Marzieh Maghrouni|Omid Mahian|Somchai Wongwises</td>\n",
       "      <td>NaN</td>\n",
       "      <td>0000-0001-5754-7152</td>\n",
       "      <td>NaN</td>\n",
       "      <td>NaN</td>\n",
       "      <td>NaN</td>\n",
       "      <td>NaN</td>\n",
       "      <td>NaN</td>\n",
       "      <td>NaN</td>\n",
       "      <td>...</td>\n",
       "      <td>NaN</td>\n",
       "      <td>NaN</td>\n",
       "      <td>NaN</td>\n",
       "      <td>Journals Can Persuade Authors to Learn Publish...</td>\n",
       "      <td>NaN</td>\n",
       "      <td>NaN</td>\n",
       "      <td>db/journals/see/see25.html#MaghrouniMW19</td>\n",
       "      <td>25</td>\n",
       "      <td>2019</td>\n",
       "      <td>Robert D. J. Smith|James A. E. Macpherson</td>\n",
       "    </tr>\n",
       "    <tr>\n",
       "      <th>998</th>\n",
       "      <td>29103</td>\n",
       "      <td>Julio R. Tuma</td>\n",
       "      <td>NaN</td>\n",
       "      <td>NaN</td>\n",
       "      <td>NaN</td>\n",
       "      <td>NaN</td>\n",
       "      <td>NaN</td>\n",
       "      <td>NaN</td>\n",
       "      <td>NaN</td>\n",
       "      <td>NaN</td>\n",
       "      <td>...</td>\n",
       "      <td>NaN</td>\n",
       "      <td>NaN</td>\n",
       "      <td>NaN</td>\n",
       "      <td>Nanoethics and the Breaching of Boundaries: A ...</td>\n",
       "      <td>NaN</td>\n",
       "      <td>NaN</td>\n",
       "      <td>db/journals/see/see17.html#Tuma11</td>\n",
       "      <td>17</td>\n",
       "      <td>2011</td>\n",
       "      <td>Keith W. Miller 0001|Nick Roussopoulos</td>\n",
       "    </tr>\n",
       "    <tr>\n",
       "      <th>999</th>\n",
       "      <td>29104</td>\n",
       "      <td>Jeroen van den Hoven</td>\n",
       "      <td>NaN</td>\n",
       "      <td>NaN</td>\n",
       "      <td>NaN</td>\n",
       "      <td>NaN</td>\n",
       "      <td>NaN</td>\n",
       "      <td>NaN</td>\n",
       "      <td>NaN</td>\n",
       "      <td>NaN</td>\n",
       "      <td>...</td>\n",
       "      <td>NaN</td>\n",
       "      <td>NaN</td>\n",
       "      <td>NaN</td>\n",
       "      <td>Ethics and the UN Sustainable Development Goal...</td>\n",
       "      <td>NaN</td>\n",
       "      <td>NaN</td>\n",
       "      <td>db/journals/see/see25.html#Hoven19</td>\n",
       "      <td>25</td>\n",
       "      <td>2019</td>\n",
       "      <td>Zach Piso|Udo Pletat</td>\n",
       "    </tr>\n",
       "  </tbody>\n",
       "</table>\n",
       "<p>1000 rows × 36 columns</p>\n",
       "</div>"
      ],
      "text/plain": [
       "        id                                             author  author-aux  \\\n",
       "0        0  Daniel Genkin|Daniel Gruss|Michael Schwarz 000...         NaN   \n",
       "1        1  Daniel Genkin|Daniel Gruss|Michael Schwarz 000...         NaN   \n",
       "2        3                                       Frank Manola         NaN   \n",
       "3        4              Michael L. Brodie|Michael Stonebraker         NaN   \n",
       "4        5     Farshad Nayeri|Joe D. Morrison|Mark F. Hornick         NaN   \n",
       "..     ...                                                ...         ...   \n",
       "995  29100                                Cristian Timmermann         NaN   \n",
       "996  29101                                        Bo Brinkman         NaN   \n",
       "997  29102    Marzieh Maghrouni|Omid Mahian|Somchai Wongwises         NaN   \n",
       "998  29103                                      Julio R. Tuma         NaN   \n",
       "999  29104                               Jeroen van den Hoven         NaN   \n",
       "\n",
       "            author-orcid  booktitle  cdate cdrom  cite  cite-label  crossref  \\\n",
       "0                    NaN        NaN    NaN   NaN   NaN         NaN       NaN   \n",
       "1                    NaN        NaN    NaN   NaN   NaN         NaN       NaN   \n",
       "2                    NaN        NaN    NaN   NaN   NaN         NaN       NaN   \n",
       "3                    NaN        NaN    NaN   NaN   NaN         NaN       NaN   \n",
       "4                    NaN        NaN    NaN   NaN   NaN         NaN       NaN   \n",
       "..                   ...        ...    ...   ...   ...         ...       ...   \n",
       "995  0000-0001-7935-2823        NaN    NaN   NaN   NaN         NaN       NaN   \n",
       "996  0000-0003-2951-2141        NaN    NaN   NaN   NaN         NaN       NaN   \n",
       "997  0000-0001-5754-7152        NaN    NaN   NaN   NaN         NaN       NaN   \n",
       "998                  NaN        NaN    NaN   NaN   NaN         NaN       NaN   \n",
       "999                  NaN        NaN    NaN   NaN   NaN         NaN       NaN   \n",
       "\n",
       "     ...  publtype  sub  sup  \\\n",
       "0    ...  informal  NaN  NaN   \n",
       "1    ...  informal  NaN  NaN   \n",
       "2    ...  informal  NaN  NaN   \n",
       "3    ...  informal  NaN  NaN   \n",
       "4    ...  informal  NaN  NaN   \n",
       "..   ...       ...  ...  ...   \n",
       "995  ...       NaN  NaN  NaN   \n",
       "996  ...       NaN  NaN  NaN   \n",
       "997  ...       NaN  NaN  NaN   \n",
       "998  ...       NaN  NaN  NaN   \n",
       "999  ...       NaN  NaN  NaN   \n",
       "\n",
       "                                                 title title-bibtex  tt  \\\n",
       "0    Spectre Attacks: Exploiting Speculative Execut...          NaN NaN   \n",
       "1                                             Meltdown          NaN NaN   \n",
       "2    An Evaluation of Object-Oriented DBMS Developm...          NaN NaN   \n",
       "3    DARWIN: On the Incremental Migration of Legacy...          NaN NaN   \n",
       "4    Integrating Heterogeneous, Autonomous, Distrib...          NaN NaN   \n",
       "..                                                 ...          ...  ..   \n",
       "995  Sharing in or Benefiting from Scientific Advan...          NaN NaN   \n",
       "996  An Analysis of Student Privacy Rights in the U...          NaN NaN   \n",
       "997  Journals Can Persuade Authors to Learn Publish...          NaN NaN   \n",
       "998  Nanoethics and the Breaching of Boundaries: A ...          NaN NaN   \n",
       "999  Ethics and the UN Sustainable Development Goal...          NaN NaN   \n",
       "\n",
       "                                                 url             volume  year  \\\n",
       "0                                                NaN                NaN  2018   \n",
       "1                                                NaN                NaN  2018   \n",
       "2    db/journals/gtelab/index.html#TR-0263-08-94-165  TR-0263-08-94-165  1994   \n",
       "3    db/journals/gtelab/index.html#TR-0222-10-92-165  TR-0222-10-92-165  1993   \n",
       "4    db/journals/gtelab/index.html#TR-0174-12-91-165  TR-0174-12-91-165  1991   \n",
       "..                                               ...                ...   ...   \n",
       "995          db/journals/see/see20.html#Timmermann14                 20  2014   \n",
       "996            db/journals/see/see19.html#Brinkman13                 19  2013   \n",
       "997         db/journals/see/see25.html#MaghrouniMW19                 25  2019   \n",
       "998                db/journals/see/see17.html#Tuma11                 17  2011   \n",
       "999               db/journals/see/see25.html#Hoven19                 25  2019   \n",
       "\n",
       "                                        reviewers  \n",
       "0                 Gianmarco Baldini|Tenzin Wangmo  \n",
       "1                    Gianpiero Cabodi|Peter Kroes  \n",
       "2                       Ivana Tadic|M. A. Osipova  \n",
       "3                Heike Felzmann|Barbara K. Redman  \n",
       "4    Helen Morley|Hendrik F. Machiel Van der Loos  \n",
       "..                                            ...  \n",
       "995                Wolfgang Wernecke|Libby Kinsey  \n",
       "996                 Troy E. Hall|Alexander Kaplan  \n",
       "997     Robert D. J. Smith|James A. E. Macpherson  \n",
       "998        Keith W. Miller 0001|Nick Roussopoulos  \n",
       "999                          Zach Piso|Udo Pletat  \n",
       "\n",
       "[1000 rows x 36 columns]"
      ]
     },
     "execution_count": 12,
     "metadata": {},
     "output_type": "execute_result"
    }
   ],
   "source": [
    "articles"
   ]
  },
  {
   "cell_type": "code",
   "execution_count": 13,
   "metadata": {},
   "outputs": [
    {
     "name": "stderr",
     "output_type": "stream",
     "text": [
      "/var/folders/49/ptrwr_w135x7rbt0__3kv5080000gp/T/ipykernel_60756/1103904657.py:5: DeprecationWarning: Sampling from a set deprecated\n",
      "since Python 3.9 and will be removed in a subsequent version.\n",
      "  articles_editor_mapping[i] = '|'.join(random.sample(all_authors, random.randint(3,5)))\n"
     ]
    },
    {
     "data": {
      "text/plain": [
       "{'Hydrology and Earth System Sciences': 'Computational complexity|Machine learning|Information theory',\n",
       " 'LILOG-Memo': 'Cryptography|Computer vision|Quantum computing|Robotics|Natural language processing',\n",
       " 'ANSI X2H2': 'Artificial intelligence|High-performance computing|Deep learning|Data mining',\n",
       " 'meltdownattack.com': 'Computer vision|Computer networks|Quantum computing|Algorithm analysis',\n",
       " 'GTE Laboratories Incorporated': 'Big data|Computer graphics|Distributed computing|Robotics',\n",
       " 'Research Report / RJ / IBM / San Jose, California': 'Robotics|Computer vision|Quantum computing|Human-computer interaction|Artificial intelligence',\n",
       " 'Research Report / G / IBM / Cambridge Scientific Center': 'Deep learning|Data mining|Algorithm analysis',\n",
       " 'University of California at Berkeley': 'Big data|Distributed computing|Computer graphics',\n",
       " 'Compulog Newsletter': 'Distributed computing|Quantum computing|Robotics|Computer graphics|Artificial intelligence',\n",
       " 'Universität Trier, Mathematik/Informatik, Forschungsbericht': 'Cloud computing|Machine learning|Data mining|Algorithm analysis',\n",
       " 'IBM Publication': 'Cloud computing|Information theory|Algorithm analysis',\n",
       " 'ANSI X3H2': 'Human-computer interaction|Computer networks|Machine learning',\n",
       " 'Digital System Research Center Report': 'Computational complexity|Cryptography|Algorithm analysis|Computer graphics',\n",
       " 'Technical Report': 'Cryptography|Computer vision|Distributed computing|Algorithm analysis|Cybersecurity',\n",
       " 'Technical Rep. UKSC 0060, IBM United Kingdom Scientific Centre': 'Robotics|Deep learning|Big data',\n",
       " 'IWBS Report': 'Computer vision|Machine learning|Data mining|Computer graphics|Natural language processing',\n",
       " 'LILOG-Report': 'Distributed computing|Cryptography|Data mining|Big data|Machine learning',\n",
       " 'ETH Zurich, Department of Computer Science / Technical Report': 'Robotics|Distributed computing|Artificial intelligence|Machine learning|Cybersecurity',\n",
       " 'Sci. Eng. Ethics': 'Algorithm analysis|Big data|Distributed computing'}"
      ]
     },
     "execution_count": 13,
     "metadata": {},
     "output_type": "execute_result"
    }
   ],
   "source": [
    "## Assign Editor and keywords\n",
    "articles_editor_mapping  = {}\n",
    "articles_keyword_mapping  = {}\n",
    "for i in set(articles.journal):\n",
    "    articles_editor_mapping[i] = '|'.join(random.sample(all_authors, random.randint(3,5)))\n",
    "    articles_keyword_mapping[i] = '|'.join(random.sample(keywords, random.randint(3,5)))\n",
    "articles_editor_mapping\n",
    "articles_keyword_mapping"
   ]
  },
  {
   "cell_type": "code",
   "execution_count": 14,
   "metadata": {},
   "outputs": [
    {
     "name": "stderr",
     "output_type": "stream",
     "text": [
      "/var/folders/49/ptrwr_w135x7rbt0__3kv5080000gp/T/ipykernel_60756/2419107212.py:6: DeprecationWarning: Sampling from a set deprecated\n",
      "since Python 3.9 and will be removed in a subsequent version.\n",
      "  conference_editor_mapping[i] = '|'.join(random.sample(all_authors, random.randint(3,5)))\n"
     ]
    },
    {
     "data": {
      "text/plain": [
       "{'ICML Unsupervised and Transfer Learning': 'Workshop',\n",
       " 'AISTATS': 'Symposium',\n",
       " 'ICGI': 'Workshop',\n",
       " 'Gaussian Processes in Practice': 'Regular',\n",
       " 'NIPS Mini-Symposium on Causality in Time Series': 'Workshop',\n",
       " 'NIPS Causality: Objectives and Assessment': 'Symposium',\n",
       " 'ICML On-line Trading of Exploration and Exploitation': 'Regular',\n",
       " 'Constraint Programming': 'Symposium',\n",
       " 'FSDM': 'Regular',\n",
       " 'Advanced Database Systems': 'Expert Group',\n",
       " 'WAPA': 'Symposium',\n",
       " 'MLSB': 'Workshop',\n",
       " 'WCCI Causation and Prediction Challenge': 'Symposium',\n",
       " 'ACML': 'Regular',\n",
       " 'SWEE': 'Regular',\n",
       " 'IFIP Working Conference Data Base Management': 'Regular',\n",
       " 'Yahoo! Learning to Rank Challenge': 'Regular',\n",
       " 'Active Learning and Experimental Design @ AISTATS': 'Expert Group',\n",
       " 'Text Understanding in LILOG': 'Regular',\n",
       " 'KDD Cup': 'Workshop',\n",
       " 'COLT': 'Workshop'}"
      ]
     },
     "execution_count": 14,
     "metadata": {},
     "output_type": "execute_result"
    }
   ],
   "source": [
    "#Assign Chair and keywords\n",
    "conference_editor_mapping  = {}\n",
    "confernce_keyword_mapping  = {}\n",
    "conference_type_mapping  = {}\n",
    "for i in set(inproceedings.booktitle):\n",
    "    conference_editor_mapping[i] = '|'.join(random.sample(all_authors, random.randint(3,5)))\n",
    "    confernce_keyword_mapping[i] = '|'.join(random.sample(keywords, random.randint(3,5)))\n",
    "    conference_type_mapping[i] = random.choice(['Workshop','Symposium','Expert Group','Regular'])\n",
    "conference_editor_mapping\n",
    "confernce_keyword_mapping\n",
    "conference_type_mapping"
   ]
  },
  {
   "cell_type": "code",
   "execution_count": 15,
   "metadata": {},
   "outputs": [],
   "source": [
    "## Assign Editors for Journal\n",
    "articles['editors']= articles.apply(lambda x: articles_editor_mapping[x['journal']], axis=1)\n",
    "articles['journal_keywords']= articles.apply(lambda x: articles_keyword_mapping[x['journal']], axis=1)\n",
    "\n",
    "# print(articles.journal_keywords)"
   ]
  },
  {
   "cell_type": "code",
   "execution_count": 16,
   "metadata": {},
   "outputs": [],
   "source": [
    "# Assign Chair and keyword for conference\n",
    "inproceedings['chair']= inproceedings.apply(lambda x: conference_editor_mapping[x['booktitle']], axis=1)\n",
    "inproceedings['conference_keywords']= inproceedings.apply(lambda x: confernce_keyword_mapping[x['booktitle']], axis=1)\n",
    "inproceedings['conference_type']= inproceedings.apply(lambda x: conference_type_mapping[x['booktitle']], axis=1)\n",
    "\n",
    "# print(inproceedings.conference_type)"
   ]
  },
  {
   "attachments": {},
   "cell_type": "markdown",
   "metadata": {},
   "source": [
    "## Keyword Assignment"
   ]
  },
  {
   "cell_type": "code",
   "execution_count": 17,
   "metadata": {},
   "outputs": [],
   "source": [
    "articles['paper_keywords']= articles.apply(lambda x: '|'.join(random.sample(keywords,random.randint(1,3))), axis=1)\n",
    "inproceedings['paper_keywords']= inproceedings.apply(lambda x: '|'.join(random.sample(keywords,random.randint(1,3))), axis=1)"
   ]
  },
  {
   "cell_type": "code",
   "execution_count": 18,
   "metadata": {},
   "outputs": [
    {
     "data": {
      "text/plain": [
       "'Porro dolore voluptatem porro dolorem.'"
      ]
     },
     "execution_count": 18,
     "metadata": {},
     "output_type": "execute_result"
    }
   ],
   "source": [
    "lorem.sentence()"
   ]
  },
  {
   "cell_type": "code",
   "execution_count": 19,
   "metadata": {},
   "outputs": [],
   "source": [
    "#Journal decision\n",
    "articles['decison_reviewer_0']= articles.apply(lambda x: random.choice(['reject','accept']), axis=1)\n",
    "articles['review_reviewer_0']= articles.apply(lambda x: lorem.sentence(), axis=1)\n",
    "articles['decison_reviewer_1']= articles.apply(lambda x: random.choice(['reject','accept']), axis=1)\n",
    "articles['review_reviewer_1']= articles.apply(lambda x: lorem.sentence(), axis=1)\n"
   ]
  },
  {
   "cell_type": "code",
   "execution_count": 20,
   "metadata": {},
   "outputs": [],
   "source": [
    "#Conferences decision\n",
    "inproceedings['decison_reviewer_0']= inproceedings.apply(lambda x: random.choice(['reject','accept']), axis=1)\n",
    "inproceedings['review_reviewer_0']= inproceedings.apply(lambda x: lorem.sentence(), axis=1)\n",
    "inproceedings['decison_reviewer_1']= inproceedings.apply(lambda x: random.choice(['reject','accept']), axis=1)\n",
    "inproceedings['review_reviewer_1']= inproceedings.apply(lambda x: lorem.sentence(), axis=1)\n"
   ]
  },
  {
   "cell_type": "code",
   "execution_count": 21,
   "metadata": {},
   "outputs": [],
   "source": [
    "inproceedings['paper_type']= inproceedings.apply(lambda x: random.choice(['Full Paper','Short Paper', 'Demo Paper','Poster']), axis=1)\n",
    "articles['paper_type']= articles.apply(lambda x: random.choice(['Full Paper','Short Paper', 'Demo Paper']), axis=1)\n"
   ]
  },
  {
   "cell_type": "code",
   "execution_count": 22,
   "metadata": {},
   "outputs": [],
   "source": [
    "inproceedings.to_csv('data/conference.csv')\n",
    "articles.to_csv('data/journal.csv')"
   ]
  }
 ],
 "metadata": {
  "kernelspec": {
   "display_name": "venv",
   "language": "python",
   "name": "venv"
  },
  "language_info": {
   "codemirror_mode": {
    "name": "ipython",
    "version": 3
   },
   "file_extension": ".py",
   "mimetype": "text/x-python",
   "name": "python",
   "nbconvert_exporter": "python",
   "pygments_lexer": "ipython3",
   "version": "3.9.13"
  },
  "orig_nbformat": 4
 },
 "nbformat": 4,
 "nbformat_minor": 2
}
